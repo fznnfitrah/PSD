{
 "cells": [
  {
   "cell_type": "markdown",
   "metadata": {},
   "source": [
    "# ***DATA UNDERSTANDING***"
   ]
  },
  {
   "cell_type": "markdown",
   "metadata": {
    "vscode": {
     "languageId": "plaintext"
    }
   },
   "source": [
    "Duis aliquip mollit exercitation laborum. Ea amet do in Lorem eu mollit. Reprehenderit ex non sunt ex consequat proident laborum sint voluptate est. Sunt Lorem duis ullamco sunt ad quis exercitation exercitation. Minim laboris sit magna qui adipisicing labore laborum. Cupidatat laborum occaecat aliqua ullamco. Fugiat laborum dolore velit sit anim pariatur exercitation ipsum.\n",
    "\n",
    "Consequat ad veniam sint Lorem in elit culpa velit magna cupidatat incididunt magna irure commodo. Consectetur pariatur anim do qui esse excepteur. Aute exercitation consectetur Lorem esse id magna nostrud. Fugiat ex reprehenderit mollit et voluptate proident excepteur mollit. Deserunt qui consequat tempor incididunt culpa qui elit qui. Deserunt minim excepteur amet id consectetur dolore aliqua ad magna.\n",
    "\n",
    "Quis reprehenderit sint deserunt velit ut eu adipisicing sit officia reprehenderit sunt officia do excepteur. Anim ex voluptate ad sit quis fugiat commodo elit cillum incididunt consequat ipsum. Laboris eiusmod laborum laborum non do sint veniam non elit duis irure sit.\n",
    "\n",
    "Dolor ipsum enim velit magna occaecat laborum elit sint excepteur voluptate. Incididunt ad minim excepteur ad sint aliquip laboris enim consectetur laboris. Consectetur sunt laborum ea excepteur aliquip ut do aute sit voluptate amet nostrud non."
   ]
  }
 ],
 "metadata": {
  "kernelspec": {
   "display_name": "Python 3",
   "language": "python",
   "name": "python3"
  },
  "language_info": {
   "codemirror_mode": {
    "name": "ipython",
    "version": 3
   },
   "file_extension": ".py",
   "mimetype": "text/x-python",
   "name": "python",
   "nbconvert_exporter": "python",
   "pygments_lexer": "ipython3",
   "version": "3.13.7"
  },
  "widgets": {
   "application/vnd.jupyter.widget-state+json": {
    "state": {},
    "version_major": 2,
    "version_minor": 0
   }
  }
 },
 "nbformat": 4,
 "nbformat_minor": 4
}
