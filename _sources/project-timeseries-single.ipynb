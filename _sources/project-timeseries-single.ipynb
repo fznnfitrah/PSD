{
 "cells": [
  {
   "cell_type": "markdown",
   "id": "a0fb4009",
   "metadata": {},
   "source": [
    "# ***Project Time Series Using NO2 from Copernicus***"
   ]
  },
  {
   "cell_type": "markdown",
   "id": "e75fcb6d",
   "metadata": {},
   "source": [
    "## **Taking Dataset From Copernicus**"
   ]
  },
  {
   "cell_type": "code",
   "execution_count": 10,
   "id": "d0434915",
   "metadata": {},
   "outputs": [],
   "source": [
    "import openeo\n",
    "import pandas as pd"
   ]
  },
  {
   "cell_type": "code",
   "execution_count": 11,
   "id": "885f5ee0",
   "metadata": {},
   "outputs": [
    {
     "name": "stdout",
     "output_type": "stream",
     "text": [
      "Authenticated using refresh token.\n"
     ]
    }
   ],
   "source": [
    "# ==============================================================================\n",
    "# 1. KONEKSI & 2. DEFINISI AREA (AOI)\n",
    "# (Tidak ada perubahan di sini)\n",
    "# ==============================================================================\n",
    "connection = openeo.connect(\"openeo.dataspace.copernicus.eu\").authenticate_oidc()\n"
   ]
  },
  {
   "cell_type": "code",
   "execution_count": 12,
   "id": "2854e730",
   "metadata": {},
   "outputs": [],
   "source": [
    "aoi = {\n",
    "    \"type\": \"Polygon\",\n",
    "    \"coordinates\": [\n",
    "        [\n",
    "            [113.76938301228396, -7.0503186921347223],\n",
    "            [113.76938301228396, -7.050631550698786],\n",
    "            [113.80355738445064, -7.050631550698786],\n",
    "            [113.80355738445064, -7.0503186921347223],\n",
    "            [113.76938301228396, -7.0503186921347223]\n",
    "        ]\n",
    "    ]\n",
    "}"
   ]
  },
  {
   "cell_type": "code",
   "execution_count": 25,
   "id": "bab777f8",
   "metadata": {},
   "outputs": [],
   "source": [
    "s5p_no2 = connection.load_collection(\n",
    "    \"SENTINEL_5P_L2\",\n",
    "    temporal_extent=[\"2022-10-19\", \"2025-10-19\"],\n",
    "    spatial_extent={\n",
    "        \"west\": 113.749308389220396,\n",
    "        \"south\": -7.05063150609786,\n",
    "        \"east\": 113.80355730445064,\n",
    "        \"north\": -7.003180921347223,\n",
    "    },\n",
    "    bands=[\"NO2\"],\n",
    ")"
   ]
  },
  {
   "cell_type": "code",
   "execution_count": 26,
   "id": "81845933",
   "metadata": {},
   "outputs": [
    {
     "name": "stdout",
     "output_type": "stream",
     "text": [
      "0:00:00 Job 'j-2510210245044d0ea428d644efa824d2': send 'start'\n",
      "0:00:13 Job 'j-2510210245044d0ea428d644efa824d2': created (progress 0%)\n",
      "0:00:19 Job 'j-2510210245044d0ea428d644efa824d2': created (progress 0%)\n",
      "0:00:26 Job 'j-2510210245044d0ea428d644efa824d2': created (progress 0%)\n",
      "0:00:34 Job 'j-2510210245044d0ea428d644efa824d2': created (progress 0%)\n",
      "0:00:45 Job 'j-2510210245044d0ea428d644efa824d2': created (progress 0%)\n",
      "0:00:58 Job 'j-2510210245044d0ea428d644efa824d2': created (progress 0%)\n",
      "0:01:14 Job 'j-2510210245044d0ea428d644efa824d2': running (progress N/A)\n",
      "0:01:34 Job 'j-2510210245044d0ea428d644efa824d2': running (progress N/A)\n",
      "0:01:58 Job 'j-2510210245044d0ea428d644efa824d2': running (progress N/A)\n",
      "0:02:29 Job 'j-2510210245044d0ea428d644efa824d2': running (progress N/A)\n",
      "0:03:07 Job 'j-2510210245044d0ea428d644efa824d2': running (progress N/A)\n",
      "0:03:54 Job 'j-2510210245044d0ea428d644efa824d2': running (progress N/A)\n",
      "0:04:53 Job 'j-2510210245044d0ea428d644efa824d2': running (progress N/A)\n",
      "0:05:53 Job 'j-2510210245044d0ea428d644efa824d2': running (progress N/A)\n",
      "0:06:54 Job 'j-2510210245044d0ea428d644efa824d2': running (progress N/A)\n",
      "0:07:54 Job 'j-2510210245044d0ea428d644efa824d2': running (progress N/A)\n",
      "0:08:55 Job 'j-2510210245044d0ea428d644efa824d2': running (progress N/A)\n",
      "0:09:55 Job 'j-2510210245044d0ea428d644efa824d2': finished (progress 100%)\n"
     ]
    }
   ],
   "source": [
    "# 4. Hitung rata-rata harian\n",
    "s5p_no2_daily = s5p_no2.aggregate_temporal_period(\n",
    "    period=\"day\",\n",
    "    reducer=\"mean\"\n",
    ")\n",
    "\n",
    "# 5. Hitung rata-rata spasial berdasarkan AOI\n",
    "s5p_no2_aoi = s5p_no2_daily.aggregate_spatial(\n",
    "    geometries=aoi,\n",
    "    reducer=\"mean\"\n",
    ")\n",
    "\n",
    "job = s5p_no2.execute_batch(title=\"NO2 in Lenteng\", outputfile=\"NO2_in_Lenteng(1).nc\")"
   ]
  },
  {
   "cell_type": "code",
   "execution_count": null,
   "id": "75a34474",
   "metadata": {},
   "outputs": [],
   "source": []
  }
 ],
 "metadata": {
  "kernelspec": {
   "display_name": ".venv",
   "language": "python",
   "name": "python3"
  },
  "language_info": {
   "codemirror_mode": {
    "name": "ipython",
    "version": 3
   },
   "file_extension": ".py",
   "mimetype": "text/x-python",
   "name": "python",
   "nbconvert_exporter": "python",
   "pygments_lexer": "ipython3",
   "version": "3.11.9"
  }
 },
 "nbformat": 4,
 "nbformat_minor": 5
}
