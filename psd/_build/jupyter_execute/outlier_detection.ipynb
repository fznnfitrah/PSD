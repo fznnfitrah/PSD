{
 "cells": [
  {
   "cell_type": "markdown",
   "id": "354d2a74",
   "metadata": {},
   "source": [
    "# ***DATA PROCESSING***"
   ]
  },
  {
   "cell_type": "markdown",
   "id": "17046498",
   "metadata": {},
   "source": [
    "## **Analisis Data Menggunakan POWER BI**\n",
    "\n",
    "![testing](checking-missing-value-sneakers.png \"test\")"
   ]
  },
  {
   "cell_type": "markdown",
   "id": "4a8ccbc2",
   "metadata": {},
   "source": [
    "## **Koneksi Ke Database**"
   ]
  },
  {
   "cell_type": "code",
   "execution_count": 1,
   "id": "3f86e285",
   "metadata": {},
   "outputs": [
    {
     "ename": "ImportError",
     "evalue": "cannot import name 'ABO' from 'pyod.models.abod' (D:\\Perkuliahan\\Semester 5\\Poyek Sains Data\\PSD\\venv_py3.11\\Lib\\site-packages\\pyod\\models\\abod.py)",
     "output_type": "error",
     "traceback": [
      "\u001b[31m---------------------------------------------------------------------------\u001b[39m",
      "\u001b[31mImportError\u001b[39m                               Traceback (most recent call last)",
      "\u001b[36mCell\u001b[39m\u001b[36m \u001b[39m\u001b[32mIn[1]\u001b[39m\u001b[32m, line 5\u001b[39m\n\u001b[32m      3\u001b[39m \u001b[38;5;28;01mfrom\u001b[39;00m\u001b[38;5;250m \u001b[39m\u001b[34;01mdotenv\u001b[39;00m\u001b[38;5;250m \u001b[39m\u001b[38;5;28;01mimport\u001b[39;00m load_dotenv\n\u001b[32m      4\u001b[39m \u001b[38;5;28;01mfrom\u001b[39;00m\u001b[38;5;250m \u001b[39m\u001b[34;01msqlalchemy\u001b[39;00m\u001b[38;5;250m \u001b[39m\u001b[38;5;28;01mimport\u001b[39;00m create_engine\n\u001b[32m----> \u001b[39m\u001b[32m5\u001b[39m \u001b[38;5;28;01mfrom\u001b[39;00m\u001b[38;5;250m \u001b[39m\u001b[34;01mpyod\u001b[39;00m\u001b[34;01m.\u001b[39;00m\u001b[34;01mmodels\u001b[39;00m\u001b[34;01m.\u001b[39;00m\u001b[34;01mabod\u001b[39;00m\u001b[38;5;250m \u001b[39m\u001b[38;5;28;01mimport\u001b[39;00m ABO\n",
      "\u001b[31mImportError\u001b[39m: cannot import name 'ABO' from 'pyod.models.abod' (D:\\Perkuliahan\\Semester 5\\Poyek Sains Data\\PSD\\venv_py3.11\\Lib\\site-packages\\pyod\\models\\abod.py)"
     ]
    }
   ],
   "source": [
    "import os\n",
    "import pandas as pd\n",
    "from dotenv import load_dotenv\n",
    "from sqlalchemy import create_engine\n",
    "from pyod.models.abod import ABO"
   ]
  },
  {
   "cell_type": "code",
   "execution_count": 3,
   "id": "1673c65d",
   "metadata": {},
   "outputs": [
    {
     "name": "stderr",
     "output_type": "stream",
     "text": [
      "python-dotenv could not parse statement starting at line 13\n"
     ]
    },
    {
     "name": "stderr",
     "output_type": "stream",
     "text": [
      "python-dotenv could not parse statement starting at line 17\n"
     ]
    }
   ],
   "source": [
    "load_dotenv()\n",
    "\n",
    "# Ambil variabel dari .env\n",
    "user_postgres = os.getenv(\"USER_POSTGRES\")\n",
    "password_postgres = os.getenv(\"PASS_POSTGRES\")\n",
    "host_postgres = os.getenv(\"HOST_POSTGRES\")\n",
    "port_postgres = os.getenv(\"PORT_POSTGRES\")\n",
    "db_postgres = os.getenv(\"DB_POSTGRES\")\n",
    "\n",
    "user_mysql = os.getenv(\"USER_MYSQL\")\n",
    "password_mysql = os.getenv(\"PASS_MYSQL\")\n",
    "host_mysql = os.getenv(\"HOST_MYSQL\")\n",
    "port_mysql = os.getenv(\"PORT_MYSQL\")\n",
    "db_mysql = os.getenv(\"DB_MYSQL\")\n",
    "\n",
    "\n",
    "postgres_conn = f\"postgresql+psycopg2://{user_postgres}:{password_postgres}@{host_postgres}:{port_postgres}/{db_postgres}\"\n",
    "\n",
    "mysql_conn = f\"mysql+pymysql://{user_mysql}:{password_mysql}@{host_mysql}:{port_mysql}/{db_mysql}\"\n",
    "\n",
    "postgres_engine = create_engine(postgres_conn)\n",
    "postgres_engine = create_engine(mysql_conn)"
   ]
  },
  {
   "cell_type": "code",
   "execution_count": 4,
   "id": "5d9da7a5",
   "metadata": {},
   "outputs": [],
   "source": [
    "mysql_df_iris = pd.read_sql(\"SELECT * FROM iris_no_class\", mysql_conn)\n",
    "postgres_df_iris = pd.read_sql(\"SELECT * FROM iris_no_class\", postgres_conn)"
   ]
  },
  {
   "cell_type": "code",
   "execution_count": 5,
   "id": "18f72aac",
   "metadata": {},
   "outputs": [],
   "source": [
    "# mengabungkan 2 database\n",
    "merge_df = pd.merge(mysql_df_iris, postgres_df_iris, left_on=\"id\", right_on='id', how='outer')"
   ]
  },
  {
   "cell_type": "code",
   "execution_count": 6,
   "id": "4988ea3d",
   "metadata": {},
   "outputs": [
    {
     "name": "stdout",
     "output_type": "stream",
     "text": [
      "      id  sepal_length  sepal_width  petal_length  petal_width\n",
      "0      1           5.1          3.5           1.4          0.2\n",
      "1      2           4.9          3.0           1.4          0.2\n",
      "2      3           4.7          3.2           1.3          0.2\n",
      "3      4           4.6          3.1           1.5          0.2\n",
      "4      5           5.0          3.6           1.4          0.2\n",
      "..   ...           ...          ...           ...          ...\n",
      "145  146           6.7          3.0           5.2          2.3\n",
      "146  147           6.3          2.5           5.0          1.9\n",
      "147  148           6.5          3.0           5.2          2.0\n",
      "148  149           6.2          3.4           5.4          2.3\n",
      "149  150           5.9          3.0           5.1          1.8\n",
      "\n",
      "[150 rows x 5 columns]\n"
     ]
    }
   ],
   "source": [
    "print(merge_df)"
   ]
  },
  {
   "cell_type": "code",
   "execution_count": 7,
   "id": "7bdcdd67",
   "metadata": {},
   "outputs": [],
   "source": [
    "table_iris = merge_df.copy()"
   ]
  },
  {
   "cell_type": "markdown",
   "id": "27392623",
   "metadata": {},
   "source": [
    "## **Algoritma ABOD**"
   ]
  },
  {
   "cell_type": "code",
   "execution_count": null,
   "id": "f0a96b99",
   "metadata": {},
   "outputs": [],
   "source": [
    "from pycaret.anomaly import *\n",
    "\n",
    "# Setup PyCaret untuk anomaly detection\n",
    "exp_ano = setup(data=table_iris)\n",
    "\n",
    "# Buat model ABOD\n",
    "abod_model = create_model('abod')\n",
    "\n",
    "# Assign label outlier ke setiap baris\n",
    "df_abod_ = assign_model(abod_model)\n",
    "\n",
    "# # Hapus baris yang dianggap outlier\n",
    "# dataset_clean = dataset_outliers[dataset_outliers['Anomaly'] == 1]\n",
    "\n",
    "# dataset_clean"
   ]
  },
  {
   "cell_type": "code",
   "execution_count": null,
   "id": "130e46a1",
   "metadata": {},
   "outputs": [],
   "source": [
    "# Model ABOD\n",
    "abod = ABOD()\n",
    "abod.fit(table_iris)\n",
    "\n",
    "# Prediksi: 0 = normal, 1 = outlier\n",
    "labels = abod.predict(table_iris)\n",
    "\n",
    "# Skor outlier\n",
    "scores = abod.decision_scores_\n",
    "\n",
    "# Gabungkan ke DataFrame\n",
    "df_result = table_iris.copy()\n",
    "df_result[\"Anomaly\"] = labels\n",
    "df_result[\"Anomaly_Score\"] = scores\n",
    "\n",
    "print(df_result.head())\n"
   ]
  },
  {
   "cell_type": "markdown",
   "id": "c8e31f9d",
   "metadata": {},
   "source": [
    "## **Algoritma KNN**"
   ]
  },
  {
   "cell_type": "code",
   "execution_count": 23,
   "id": "55cffcf4",
   "metadata": {},
   "outputs": [
    {
     "data": {
      "text/html": [
       "<style type=\"text/css\">\n",
       "#T_ed295_row4_col1 {\n",
       "  background-color: lightgreen;\n",
       "}\n",
       "</style>\n",
       "<table id=\"T_ed295\">\n",
       "  <thead>\n",
       "    <tr>\n",
       "      <th class=\"blank level0\" >&nbsp;</th>\n",
       "      <th id=\"T_ed295_level0_col0\" class=\"col_heading level0 col0\" >Description</th>\n",
       "      <th id=\"T_ed295_level0_col1\" class=\"col_heading level0 col1\" >Value</th>\n",
       "    </tr>\n",
       "  </thead>\n",
       "  <tbody>\n",
       "    <tr>\n",
       "      <th id=\"T_ed295_level0_row0\" class=\"row_heading level0 row0\" >0</th>\n",
       "      <td id=\"T_ed295_row0_col0\" class=\"data row0 col0\" >Session id</td>\n",
       "      <td id=\"T_ed295_row0_col1\" class=\"data row0 col1\" >7097</td>\n",
       "    </tr>\n",
       "    <tr>\n",
       "      <th id=\"T_ed295_level0_row1\" class=\"row_heading level0 row1\" >1</th>\n",
       "      <td id=\"T_ed295_row1_col0\" class=\"data row1 col0\" >Original data shape</td>\n",
       "      <td id=\"T_ed295_row1_col1\" class=\"data row1 col1\" >(150, 5)</td>\n",
       "    </tr>\n",
       "    <tr>\n",
       "      <th id=\"T_ed295_level0_row2\" class=\"row_heading level0 row2\" >2</th>\n",
       "      <td id=\"T_ed295_row2_col0\" class=\"data row2 col0\" >Transformed data shape</td>\n",
       "      <td id=\"T_ed295_row2_col1\" class=\"data row2 col1\" >(150, 5)</td>\n",
       "    </tr>\n",
       "    <tr>\n",
       "      <th id=\"T_ed295_level0_row3\" class=\"row_heading level0 row3\" >3</th>\n",
       "      <td id=\"T_ed295_row3_col0\" class=\"data row3 col0\" >Numeric features</td>\n",
       "      <td id=\"T_ed295_row3_col1\" class=\"data row3 col1\" >5</td>\n",
       "    </tr>\n",
       "    <tr>\n",
       "      <th id=\"T_ed295_level0_row4\" class=\"row_heading level0 row4\" >4</th>\n",
       "      <td id=\"T_ed295_row4_col0\" class=\"data row4 col0\" >Preprocess</td>\n",
       "      <td id=\"T_ed295_row4_col1\" class=\"data row4 col1\" >True</td>\n",
       "    </tr>\n",
       "    <tr>\n",
       "      <th id=\"T_ed295_level0_row5\" class=\"row_heading level0 row5\" >5</th>\n",
       "      <td id=\"T_ed295_row5_col0\" class=\"data row5 col0\" >Imputation type</td>\n",
       "      <td id=\"T_ed295_row5_col1\" class=\"data row5 col1\" >simple</td>\n",
       "    </tr>\n",
       "    <tr>\n",
       "      <th id=\"T_ed295_level0_row6\" class=\"row_heading level0 row6\" >6</th>\n",
       "      <td id=\"T_ed295_row6_col0\" class=\"data row6 col0\" >Numeric imputation</td>\n",
       "      <td id=\"T_ed295_row6_col1\" class=\"data row6 col1\" >mean</td>\n",
       "    </tr>\n",
       "    <tr>\n",
       "      <th id=\"T_ed295_level0_row7\" class=\"row_heading level0 row7\" >7</th>\n",
       "      <td id=\"T_ed295_row7_col0\" class=\"data row7 col0\" >Categorical imputation</td>\n",
       "      <td id=\"T_ed295_row7_col1\" class=\"data row7 col1\" >mode</td>\n",
       "    </tr>\n",
       "    <tr>\n",
       "      <th id=\"T_ed295_level0_row8\" class=\"row_heading level0 row8\" >8</th>\n",
       "      <td id=\"T_ed295_row8_col0\" class=\"data row8 col0\" >CPU Jobs</td>\n",
       "      <td id=\"T_ed295_row8_col1\" class=\"data row8 col1\" >-1</td>\n",
       "    </tr>\n",
       "    <tr>\n",
       "      <th id=\"T_ed295_level0_row9\" class=\"row_heading level0 row9\" >9</th>\n",
       "      <td id=\"T_ed295_row9_col0\" class=\"data row9 col0\" >Use GPU</td>\n",
       "      <td id=\"T_ed295_row9_col1\" class=\"data row9 col1\" >False</td>\n",
       "    </tr>\n",
       "    <tr>\n",
       "      <th id=\"T_ed295_level0_row10\" class=\"row_heading level0 row10\" >10</th>\n",
       "      <td id=\"T_ed295_row10_col0\" class=\"data row10 col0\" >Log Experiment</td>\n",
       "      <td id=\"T_ed295_row10_col1\" class=\"data row10 col1\" >False</td>\n",
       "    </tr>\n",
       "    <tr>\n",
       "      <th id=\"T_ed295_level0_row11\" class=\"row_heading level0 row11\" >11</th>\n",
       "      <td id=\"T_ed295_row11_col0\" class=\"data row11 col0\" >Experiment Name</td>\n",
       "      <td id=\"T_ed295_row11_col1\" class=\"data row11 col1\" >anomaly-default-name</td>\n",
       "    </tr>\n",
       "    <tr>\n",
       "      <th id=\"T_ed295_level0_row12\" class=\"row_heading level0 row12\" >12</th>\n",
       "      <td id=\"T_ed295_row12_col0\" class=\"data row12 col0\" >USI</td>\n",
       "      <td id=\"T_ed295_row12_col1\" class=\"data row12 col1\" >ea65</td>\n",
       "    </tr>\n",
       "  </tbody>\n",
       "</table>\n"
      ],
      "text/plain": [
       "<pandas.io.formats.style.Styler at 0x264cd8e42d0>"
      ]
     },
     "metadata": {},
     "output_type": "display_data"
    },
    {
     "data": {
      "text/html": [],
      "text/plain": [
       "<IPython.core.display.HTML object>"
      ]
     },
     "metadata": {},
     "output_type": "display_data"
    },
    {
     "data": {
      "text/html": [],
      "text/plain": [
       "<IPython.core.display.HTML object>"
      ]
     },
     "metadata": {},
     "output_type": "display_data"
    },
    {
     "data": {
      "text/html": [],
      "text/plain": [
       "<IPython.core.display.HTML object>"
      ]
     },
     "metadata": {},
     "output_type": "display_data"
    }
   ],
   "source": [
    "from pycaret.anomaly import *\n",
    "\n",
    "# Setup PyCaret untuk anomaly detection\n",
    "exp_ano = setup(data=table_iris)\n",
    "\n",
    "# Buat model ABOD\n",
    "knn_model = create_model('knn')\n",
    "\n",
    "# Assign label outlier ke setiap baris\n",
    "dataset_outliers_knn = assign_model(knn_model)\n",
    "\n",
    "# # Hapus baris yang dianggap outlier\n",
    "# dataset_clean = dataset_outliers_knn[dataset_outliers_knn['Anomaly'] == 1]\n",
    "\n",
    "# dataset_clean"
   ]
  },
  {
   "cell_type": "markdown",
   "id": "5bd075b7",
   "metadata": {},
   "source": [
    "## **Algoritma LOF**"
   ]
  },
  {
   "cell_type": "code",
   "execution_count": 26,
   "id": "1cb97b31",
   "metadata": {},
   "outputs": [
    {
     "data": {
      "text/html": [
       "<style type=\"text/css\">\n",
       "#T_1feb2_row4_col1 {\n",
       "  background-color: lightgreen;\n",
       "}\n",
       "</style>\n",
       "<table id=\"T_1feb2\">\n",
       "  <thead>\n",
       "    <tr>\n",
       "      <th class=\"blank level0\" >&nbsp;</th>\n",
       "      <th id=\"T_1feb2_level0_col0\" class=\"col_heading level0 col0\" >Description</th>\n",
       "      <th id=\"T_1feb2_level0_col1\" class=\"col_heading level0 col1\" >Value</th>\n",
       "    </tr>\n",
       "  </thead>\n",
       "  <tbody>\n",
       "    <tr>\n",
       "      <th id=\"T_1feb2_level0_row0\" class=\"row_heading level0 row0\" >0</th>\n",
       "      <td id=\"T_1feb2_row0_col0\" class=\"data row0 col0\" >Session id</td>\n",
       "      <td id=\"T_1feb2_row0_col1\" class=\"data row0 col1\" >7325</td>\n",
       "    </tr>\n",
       "    <tr>\n",
       "      <th id=\"T_1feb2_level0_row1\" class=\"row_heading level0 row1\" >1</th>\n",
       "      <td id=\"T_1feb2_row1_col0\" class=\"data row1 col0\" >Original data shape</td>\n",
       "      <td id=\"T_1feb2_row1_col1\" class=\"data row1 col1\" >(150, 5)</td>\n",
       "    </tr>\n",
       "    <tr>\n",
       "      <th id=\"T_1feb2_level0_row2\" class=\"row_heading level0 row2\" >2</th>\n",
       "      <td id=\"T_1feb2_row2_col0\" class=\"data row2 col0\" >Transformed data shape</td>\n",
       "      <td id=\"T_1feb2_row2_col1\" class=\"data row2 col1\" >(150, 5)</td>\n",
       "    </tr>\n",
       "    <tr>\n",
       "      <th id=\"T_1feb2_level0_row3\" class=\"row_heading level0 row3\" >3</th>\n",
       "      <td id=\"T_1feb2_row3_col0\" class=\"data row3 col0\" >Numeric features</td>\n",
       "      <td id=\"T_1feb2_row3_col1\" class=\"data row3 col1\" >5</td>\n",
       "    </tr>\n",
       "    <tr>\n",
       "      <th id=\"T_1feb2_level0_row4\" class=\"row_heading level0 row4\" >4</th>\n",
       "      <td id=\"T_1feb2_row4_col0\" class=\"data row4 col0\" >Preprocess</td>\n",
       "      <td id=\"T_1feb2_row4_col1\" class=\"data row4 col1\" >True</td>\n",
       "    </tr>\n",
       "    <tr>\n",
       "      <th id=\"T_1feb2_level0_row5\" class=\"row_heading level0 row5\" >5</th>\n",
       "      <td id=\"T_1feb2_row5_col0\" class=\"data row5 col0\" >Imputation type</td>\n",
       "      <td id=\"T_1feb2_row5_col1\" class=\"data row5 col1\" >simple</td>\n",
       "    </tr>\n",
       "    <tr>\n",
       "      <th id=\"T_1feb2_level0_row6\" class=\"row_heading level0 row6\" >6</th>\n",
       "      <td id=\"T_1feb2_row6_col0\" class=\"data row6 col0\" >Numeric imputation</td>\n",
       "      <td id=\"T_1feb2_row6_col1\" class=\"data row6 col1\" >mean</td>\n",
       "    </tr>\n",
       "    <tr>\n",
       "      <th id=\"T_1feb2_level0_row7\" class=\"row_heading level0 row7\" >7</th>\n",
       "      <td id=\"T_1feb2_row7_col0\" class=\"data row7 col0\" >Categorical imputation</td>\n",
       "      <td id=\"T_1feb2_row7_col1\" class=\"data row7 col1\" >mode</td>\n",
       "    </tr>\n",
       "    <tr>\n",
       "      <th id=\"T_1feb2_level0_row8\" class=\"row_heading level0 row8\" >8</th>\n",
       "      <td id=\"T_1feb2_row8_col0\" class=\"data row8 col0\" >CPU Jobs</td>\n",
       "      <td id=\"T_1feb2_row8_col1\" class=\"data row8 col1\" >-1</td>\n",
       "    </tr>\n",
       "    <tr>\n",
       "      <th id=\"T_1feb2_level0_row9\" class=\"row_heading level0 row9\" >9</th>\n",
       "      <td id=\"T_1feb2_row9_col0\" class=\"data row9 col0\" >Use GPU</td>\n",
       "      <td id=\"T_1feb2_row9_col1\" class=\"data row9 col1\" >False</td>\n",
       "    </tr>\n",
       "    <tr>\n",
       "      <th id=\"T_1feb2_level0_row10\" class=\"row_heading level0 row10\" >10</th>\n",
       "      <td id=\"T_1feb2_row10_col0\" class=\"data row10 col0\" >Log Experiment</td>\n",
       "      <td id=\"T_1feb2_row10_col1\" class=\"data row10 col1\" >False</td>\n",
       "    </tr>\n",
       "    <tr>\n",
       "      <th id=\"T_1feb2_level0_row11\" class=\"row_heading level0 row11\" >11</th>\n",
       "      <td id=\"T_1feb2_row11_col0\" class=\"data row11 col0\" >Experiment Name</td>\n",
       "      <td id=\"T_1feb2_row11_col1\" class=\"data row11 col1\" >anomaly-default-name</td>\n",
       "    </tr>\n",
       "    <tr>\n",
       "      <th id=\"T_1feb2_level0_row12\" class=\"row_heading level0 row12\" >12</th>\n",
       "      <td id=\"T_1feb2_row12_col0\" class=\"data row12 col0\" >USI</td>\n",
       "      <td id=\"T_1feb2_row12_col1\" class=\"data row12 col1\" >f424</td>\n",
       "    </tr>\n",
       "  </tbody>\n",
       "</table>\n"
      ],
      "text/plain": [
       "<pandas.io.formats.style.Styler at 0x264cdcbd390>"
      ]
     },
     "metadata": {},
     "output_type": "display_data"
    },
    {
     "data": {
      "text/html": [],
      "text/plain": [
       "<IPython.core.display.HTML object>"
      ]
     },
     "metadata": {},
     "output_type": "display_data"
    },
    {
     "data": {
      "text/html": [],
      "text/plain": [
       "<IPython.core.display.HTML object>"
      ]
     },
     "metadata": {},
     "output_type": "display_data"
    },
    {
     "data": {
      "text/html": [],
      "text/plain": [
       "<IPython.core.display.HTML object>"
      ]
     },
     "metadata": {},
     "output_type": "display_data"
    }
   ],
   "source": [
    "from pycaret.anomaly import *\n",
    "\n",
    "# Setup PyCaret untuk anomaly detection\n",
    "exp_ano = setup(data=table_iris)\n",
    "\n",
    "# Buat model ABOD\n",
    "lof_model = create_model('lof')\n",
    "\n",
    "# Assign label outlier ke setiap baris\n",
    "dataset_outliers_lof = assign_model(lof_model)\n",
    "\n",
    "# Hapus baris yang dianggap outlier\n",
    "# dataset_clean = dataset_outliers_lof[dataset_outliers_lof['Anomaly'] == 1]\n",
    "\n"
   ]
  },
  {
   "cell_type": "code",
   "execution_count": 27,
   "id": "a8c98830",
   "metadata": {},
   "outputs": [
    {
     "name": "stdout",
     "output_type": "stream",
     "text": [
      "Top 5 Deteksi Anomali berdasarkan (knn)\n"
     ]
    },
    {
     "data": {
      "text/html": [
       "<div>\n",
       "<style scoped>\n",
       "    .dataframe tbody tr th:only-of-type {\n",
       "        vertical-align: middle;\n",
       "    }\n",
       "\n",
       "    .dataframe tbody tr th {\n",
       "        vertical-align: top;\n",
       "    }\n",
       "\n",
       "    .dataframe thead th {\n",
       "        text-align: right;\n",
       "    }\n",
       "</style>\n",
       "<table border=\"1\" class=\"dataframe\">\n",
       "  <thead>\n",
       "    <tr style=\"text-align: right;\">\n",
       "      <th></th>\n",
       "      <th>id</th>\n",
       "      <th>sepal_length</th>\n",
       "      <th>sepal_width</th>\n",
       "      <th>petal_length</th>\n",
       "      <th>petal_width</th>\n",
       "      <th>Anomaly</th>\n",
       "      <th>Anomaly_Score</th>\n",
       "    </tr>\n",
       "  </thead>\n",
       "  <tbody>\n",
       "    <tr>\n",
       "      <th>0</th>\n",
       "      <td>150</td>\n",
       "      <td>5.9</td>\n",
       "      <td>3.0</td>\n",
       "      <td>5.1</td>\n",
       "      <td>1.8</td>\n",
       "      <td>1</td>\n",
       "      <td>5.155579</td>\n",
       "    </tr>\n",
       "    <tr>\n",
       "      <th>1</th>\n",
       "      <td>1</td>\n",
       "      <td>5.1</td>\n",
       "      <td>3.5</td>\n",
       "      <td>1.4</td>\n",
       "      <td>0.2</td>\n",
       "      <td>1</td>\n",
       "      <td>5.037857</td>\n",
       "    </tr>\n",
       "    <tr>\n",
       "      <th>2</th>\n",
       "      <td>51</td>\n",
       "      <td>7.0</td>\n",
       "      <td>3.2</td>\n",
       "      <td>4.7</td>\n",
       "      <td>1.4</td>\n",
       "      <td>1</td>\n",
       "      <td>4.164132</td>\n",
       "    </tr>\n",
       "    <tr>\n",
       "      <th>3</th>\n",
       "      <td>50</td>\n",
       "      <td>5.0</td>\n",
       "      <td>3.3</td>\n",
       "      <td>1.4</td>\n",
       "      <td>0.2</td>\n",
       "      <td>1</td>\n",
       "      <td>4.155719</td>\n",
       "    </tr>\n",
       "    <tr>\n",
       "      <th>4</th>\n",
       "      <td>2</td>\n",
       "      <td>4.9</td>\n",
       "      <td>3.0</td>\n",
       "      <td>1.4</td>\n",
       "      <td>0.2</td>\n",
       "      <td>1</td>\n",
       "      <td>4.146083</td>\n",
       "    </tr>\n",
       "  </tbody>\n",
       "</table>\n",
       "</div>"
      ],
      "text/plain": [
       "    id  sepal_length  sepal_width  petal_length  petal_width  Anomaly  \\\n",
       "0  150           5.9          3.0           5.1          1.8        1   \n",
       "1    1           5.1          3.5           1.4          0.2        1   \n",
       "2   51           7.0          3.2           4.7          1.4        1   \n",
       "3   50           5.0          3.3           1.4          0.2        1   \n",
       "4    2           4.9          3.0           1.4          0.2        1   \n",
       "\n",
       "   Anomaly_Score  \n",
       "0       5.155579  \n",
       "1       5.037857  \n",
       "2       4.164132  \n",
       "3       4.155719  \n",
       "4       4.146083  "
      ]
     },
     "execution_count": 27,
     "metadata": {},
     "output_type": "execute_result"
    }
   ],
   "source": [
    "df_sorted_knn = dataset_outliers_knn.sort_values(by=\"Anomaly_Score\", ascending=False).reset_index(drop=True)\n",
    "print('Top 5 Deteksi Anomali berdasarkan (knn)')\n",
    "df_sorted_knn.head()"
   ]
  },
  {
   "cell_type": "code",
   "execution_count": 30,
   "id": "a9fada04",
   "metadata": {},
   "outputs": [
    {
     "name": "stdout",
     "output_type": "stream",
     "text": [
      "Top 5 Deteksi Anomali berdasarkan (knn)\n"
     ]
    },
    {
     "data": {
      "text/html": [
       "<div>\n",
       "<style scoped>\n",
       "    .dataframe tbody tr th:only-of-type {\n",
       "        vertical-align: middle;\n",
       "    }\n",
       "\n",
       "    .dataframe tbody tr th {\n",
       "        vertical-align: top;\n",
       "    }\n",
       "\n",
       "    .dataframe thead th {\n",
       "        text-align: right;\n",
       "    }\n",
       "</style>\n",
       "<table border=\"1\" class=\"dataframe\">\n",
       "  <thead>\n",
       "    <tr style=\"text-align: right;\">\n",
       "      <th></th>\n",
       "      <th>id</th>\n",
       "      <th>sepal_length</th>\n",
       "      <th>sepal_width</th>\n",
       "      <th>petal_length</th>\n",
       "      <th>petal_width</th>\n",
       "      <th>Anomaly</th>\n",
       "      <th>Anomaly_Score</th>\n",
       "    </tr>\n",
       "  </thead>\n",
       "  <tbody>\n",
       "    <tr>\n",
       "      <th>0</th>\n",
       "      <td>1</td>\n",
       "      <td>5.1</td>\n",
       "      <td>3.5</td>\n",
       "      <td>1.4</td>\n",
       "      <td>0.2</td>\n",
       "      <td>1</td>\n",
       "      <td>1.256153</td>\n",
       "    </tr>\n",
       "    <tr>\n",
       "      <th>1</th>\n",
       "      <td>150</td>\n",
       "      <td>5.9</td>\n",
       "      <td>3.0</td>\n",
       "      <td>5.1</td>\n",
       "      <td>1.8</td>\n",
       "      <td>1</td>\n",
       "      <td>1.253521</td>\n",
       "    </tr>\n",
       "    <tr>\n",
       "      <th>2</th>\n",
       "      <td>2</td>\n",
       "      <td>4.9</td>\n",
       "      <td>3.0</td>\n",
       "      <td>1.4</td>\n",
       "      <td>0.2</td>\n",
       "      <td>1</td>\n",
       "      <td>1.217657</td>\n",
       "    </tr>\n",
       "    <tr>\n",
       "      <th>3</th>\n",
       "      <td>149</td>\n",
       "      <td>6.2</td>\n",
       "      <td>3.4</td>\n",
       "      <td>5.4</td>\n",
       "      <td>2.3</td>\n",
       "      <td>1</td>\n",
       "      <td>1.214298</td>\n",
       "    </tr>\n",
       "    <tr>\n",
       "      <th>4</th>\n",
       "      <td>3</td>\n",
       "      <td>4.7</td>\n",
       "      <td>3.2</td>\n",
       "      <td>1.3</td>\n",
       "      <td>0.2</td>\n",
       "      <td>1</td>\n",
       "      <td>1.183005</td>\n",
       "    </tr>\n",
       "  </tbody>\n",
       "</table>\n",
       "</div>"
      ],
      "text/plain": [
       "    id  sepal_length  sepal_width  petal_length  petal_width  Anomaly  \\\n",
       "0    1           5.1          3.5           1.4          0.2        1   \n",
       "1  150           5.9          3.0           5.1          1.8        1   \n",
       "2    2           4.9          3.0           1.4          0.2        1   \n",
       "3  149           6.2          3.4           5.4          2.3        1   \n",
       "4    3           4.7          3.2           1.3          0.2        1   \n",
       "\n",
       "   Anomaly_Score  \n",
       "0       1.256153  \n",
       "1       1.253521  \n",
       "2       1.217657  \n",
       "3       1.214298  \n",
       "4       1.183005  "
      ]
     },
     "execution_count": 30,
     "metadata": {},
     "output_type": "execute_result"
    }
   ],
   "source": [
    "df_sorted_lof = dataset_outliers_lof.sort_values(by=\"Anomaly_Score\", ascending=False).reset_index(drop=True)\n",
    "print('Top 5 Deteksi Anomali berdasarkan (knn)')\n",
    "df_sorted_lof.head()"
   ]
  },
  {
   "cell_type": "markdown",
   "id": "035ad0e9",
   "metadata": {},
   "source": [
    "## **Menghapus 2 Data Outliers Teratas**"
   ]
  },
  {
   "cell_type": "markdown",
   "id": "c888a6df",
   "metadata": {},
   "source": [
    "### *Algoritma KNN*"
   ]
  },
  {
   "cell_type": "code",
   "execution_count": 40,
   "id": "41b5c5e2",
   "metadata": {},
   "outputs": [
    {
     "name": "stdout",
     "output_type": "stream",
     "text": [
      "total data iris setelah dihapus: 148\n"
     ]
    }
   ],
   "source": [
    "df_knn_clean = df_sorted_knn.iloc[2:].reset_index(drop=True)\n",
    "df_knn_clean = df_knn_clean.sort_values(by=\"id\").reset_index(drop=True)\n",
    "print(f\"total data iris setelah dihapus: {len(df_knn_clean)}\")"
   ]
  },
  {
   "cell_type": "markdown",
   "id": "43aaa4a3",
   "metadata": {},
   "source": [
    "### *Algoritma LOF*"
   ]
  },
  {
   "cell_type": "code",
   "execution_count": 41,
   "id": "9ef615a5",
   "metadata": {},
   "outputs": [
    {
     "name": "stdout",
     "output_type": "stream",
     "text": [
      "total data iris setelah dihapus: 148\n"
     ]
    }
   ],
   "source": [
    "df_lof_clean = df_sorted_lof.iloc[2:].reset_index(drop=True)\n",
    "df_lof_clean = df_lof_clean.sort_values(by=\"id\").reset_index(drop=True)\n",
    "print(f\"total data iris setelah dihapus: {len(df_lof_clean)}\")"
   ]
  }
 ],
 "metadata": {
  "kernelspec": {
   "display_name": ".venv",
   "language": "python",
   "name": "python3"
  },
  "language_info": {
   "codemirror_mode": {
    "name": "ipython",
    "version": 3
   },
   "file_extension": ".py",
   "mimetype": "text/x-python",
   "name": "python",
   "nbconvert_exporter": "python",
   "pygments_lexer": "ipython3",
   "version": "3.11.9"
  }
 },
 "nbformat": 4,
 "nbformat_minor": 5
}