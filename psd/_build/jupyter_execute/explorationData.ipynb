{
 "cells": [
  {
   "cell_type": "markdown",
   "id": "9131c4b4",
   "metadata": {},
   "source": [
    "# ***EXPLORATION DATA***"
   ]
  },
  {
   "cell_type": "markdown",
   "id": "f559aff1",
   "metadata": {},
   "source": [
    "## **POWER BI**"
   ]
  },
  {
   "cell_type": "markdown",
   "id": "4b1c3fa6",
   "metadata": {},
   "source": [
    "### **Tipe Data Dataset**\n",
    "\n",
    "Pertama tama kita akan mengentahui terlebih dahulu, kira kira apa tipe data dari setiap kolom yang ada pada dataset yang sudah kita kumpulkan. berikut ini adalah tipe datanya\n",
    "\n",
    "![tipe-data-table](type-data-table-sneakers.png \"Tipe Data Table\")\n",
    "\n",
    "![tipe-data](type-data-sneakers.png \"Tipe Data Power BI\")\n",
    "\n"
   ]
  },
  {
   "cell_type": "markdown",
   "id": "077ad315",
   "metadata": {},
   "source": [
    "### **Quality Check Data**\n",
    "\n",
    "Pada power BI kita bisa melihat kualitas dari suatu data. Caranya adalah dengan mengklik tab Transformasi Data. Selanjutnya berikut ini adalah point point yang penulis akan cek. \n",
    "\n",
    "-  **Outliers Detection**\n",
    "\n",
    "    Berikut ini adalah proses pengecekan outliers dengan menggunakan Power BI, dimana saya juga menjalankan script python untuk menampilkan scatter plotnya\n",
    "    ![outliers-detection-sneakers](outliers-detection-sneakers.png \"Outliers Detection\")\n",
    "\n",
    "- **Konsistensi Data** \n",
    "\n",
    "    Data bagus, jadi tidak ada data unik pada kolom yang memang datanya adalah klasifikasi. Berikut ini adalah salah satu contoh gambar yang penulis berikan untuk mengecek konsistensi data. Dimana data gender tidak memiliki data unik dan tetap menggunakan 3 data saja antara Men, Women, Unisex\n",
    "    ![konstistensi-data-sneakers](konsistensi-data-sneakers.png \"Konsistensi data\")\n",
    "\n",
    "-  **Missing Value**\n",
    "    \n",
    "    Pada dataset yang saya cari dan gunakah tidak ditemukan adanya missing value, bisa terlihat pada gambar yang ada dibawah ini bahwa nilai dari missing valuenya adalah nol. Jadi dataset yang saya gunakan cukup bagus. \n",
    "\n",
    "    ![checking-missing-value](checking-missing-value-sneakers.png \"Missing Value Check\")\n",
    "\n"
   ]
  },
  {
   "cell_type": "markdown",
   "id": "b146ab60",
   "metadata": {},
   "source": [
    "## **Python**"
   ]
  },
  {
   "cell_type": "markdown",
   "id": "3f78a9e0",
   "metadata": {},
   "source": [
    "### **Koneksi dengan PostgresSQL**"
   ]
  },
  {
   "cell_type": "code",
   "execution_count": 1,
   "id": "c5758d38",
   "metadata": {},
   "outputs": [],
   "source": [
    "import os\n",
    "import pandas as pd\n",
    "from dotenv import load_dotenv\n",
    "from sqlalchemy import create_engine"
   ]
  },
  {
   "cell_type": "code",
   "execution_count": 2,
   "id": "cdd861db",
   "metadata": {},
   "outputs": [
    {
     "name": "stderr",
     "output_type": "stream",
     "text": [
      "python-dotenv could not parse statement starting at line 16\n"
     ]
    },
    {
     "name": "stderr",
     "output_type": "stream",
     "text": [
      "python-dotenv could not parse statement starting at line 19\n"
     ]
    }
   ],
   "source": [
    "load_dotenv()\n",
    "\n",
    "# Ambil variabel dari .env\n",
    "db_user = os.getenv(\"USER_POSTGRES\")\n",
    "db_password = os.getenv(\"PASS_POSTGRES\")\n",
    "db_host = os.getenv(\"HOST_POSTGRES\")\n",
    "db_port = os.getenv(\"PORT_POSTGRES\")\n",
    "db_name = os.getenv(\"DB_POSTGRES\")\n",
    "    \n",
    "connection_string = f\"postgresql+psycopg2://{db_user}:{db_password}@{db_host}:{db_port}/{db_name}\"\n",
    "\n",
    "postgres_engine = create_engine(connection_string)"
   ]
  },
  {
   "cell_type": "code",
   "execution_count": 3,
   "id": "f728ec91",
   "metadata": {},
   "outputs": [
    {
     "ename": "KeyboardInterrupt",
     "evalue": "",
     "output_type": "error",
     "traceback": [
      "\u001b[31m---------------------------------------------------------------------------\u001b[39m",
      "\u001b[31mKeyboardInterrupt\u001b[39m                         Traceback (most recent call last)",
      "\u001b[36mCell\u001b[39m\u001b[36m \u001b[39m\u001b[32mIn[3]\u001b[39m\u001b[32m, line 2\u001b[39m\n\u001b[32m      1\u001b[39m pg_query = \u001b[33m'\u001b[39m\u001b[33mSELECT * FROM shoes_sales_cloud\u001b[39m\u001b[33m'\u001b[39m\n\u001b[32m----> \u001b[39m\u001b[32m2\u001b[39m pg_df = \u001b[43mpd\u001b[49m\u001b[43m.\u001b[49m\u001b[43mread_sql\u001b[49m\u001b[43m(\u001b[49m\u001b[43mpg_query\u001b[49m\u001b[43m,\u001b[49m\u001b[43m \u001b[49m\u001b[43mpostgres_engine\u001b[49m\u001b[43m)\u001b[49m\n",
      "\u001b[36mFile \u001b[39m\u001b[32md:\\Perkuliahan\\Semester 5\\Poyek Sains Data\\PSD\\.venv\\Lib\\site-packages\\pandas\\io\\sql.py:682\u001b[39m, in \u001b[36mread_sql\u001b[39m\u001b[34m(sql, con, index_col, coerce_float, params, parse_dates, columns, chunksize, dtype_backend, dtype)\u001b[39m\n\u001b[32m    672\u001b[39m     \u001b[38;5;28;01mreturn\u001b[39;00m pandas_sql.read_table(\n\u001b[32m    673\u001b[39m         sql,\n\u001b[32m    674\u001b[39m         index_col=index_col,\n\u001b[32m   (...)\u001b[39m\u001b[32m    679\u001b[39m         dtype_backend=dtype_backend,\n\u001b[32m    680\u001b[39m     )\n\u001b[32m    681\u001b[39m \u001b[38;5;28;01melse\u001b[39;00m:\n\u001b[32m--> \u001b[39m\u001b[32m682\u001b[39m     \u001b[38;5;28;01mreturn\u001b[39;00m \u001b[43mpandas_sql\u001b[49m\u001b[43m.\u001b[49m\u001b[43mread_query\u001b[49m\u001b[43m(\u001b[49m\n\u001b[32m    683\u001b[39m \u001b[43m        \u001b[49m\u001b[43msql\u001b[49m\u001b[43m,\u001b[49m\n\u001b[32m    684\u001b[39m \u001b[43m        \u001b[49m\u001b[43mindex_col\u001b[49m\u001b[43m=\u001b[49m\u001b[43mindex_col\u001b[49m\u001b[43m,\u001b[49m\n\u001b[32m    685\u001b[39m \u001b[43m        \u001b[49m\u001b[43mparams\u001b[49m\u001b[43m=\u001b[49m\u001b[43mparams\u001b[49m\u001b[43m,\u001b[49m\n\u001b[32m    686\u001b[39m \u001b[43m        \u001b[49m\u001b[43mcoerce_float\u001b[49m\u001b[43m=\u001b[49m\u001b[43mcoerce_float\u001b[49m\u001b[43m,\u001b[49m\n\u001b[32m    687\u001b[39m \u001b[43m        \u001b[49m\u001b[43mparse_dates\u001b[49m\u001b[43m=\u001b[49m\u001b[43mparse_dates\u001b[49m\u001b[43m,\u001b[49m\n\u001b[32m    688\u001b[39m \u001b[43m        \u001b[49m\u001b[43mchunksize\u001b[49m\u001b[43m=\u001b[49m\u001b[43mchunksize\u001b[49m\u001b[43m,\u001b[49m\n\u001b[32m    689\u001b[39m \u001b[43m        \u001b[49m\u001b[43mdtype_backend\u001b[49m\u001b[43m=\u001b[49m\u001b[43mdtype_backend\u001b[49m\u001b[43m,\u001b[49m\n\u001b[32m    690\u001b[39m \u001b[43m        \u001b[49m\u001b[43mdtype\u001b[49m\u001b[43m=\u001b[49m\u001b[43mdtype\u001b[49m\u001b[43m,\u001b[49m\n\u001b[32m    691\u001b[39m \u001b[43m    \u001b[49m\u001b[43m)\u001b[49m\n",
      "\u001b[36mFile \u001b[39m\u001b[32md:\\Perkuliahan\\Semester 5\\Poyek Sains Data\\PSD\\.venv\\Lib\\site-packages\\pandas\\io\\sql.py:1776\u001b[39m, in \u001b[36mSQLDatabase.read_query\u001b[39m\u001b[34m(self, sql, index_col, coerce_float, parse_dates, params, chunksize, dtype, dtype_backend)\u001b[39m\n\u001b[32m   1719\u001b[39m \u001b[38;5;28;01mdef\u001b[39;00m\u001b[38;5;250m \u001b[39m\u001b[34mread_query\u001b[39m(\n\u001b[32m   1720\u001b[39m     \u001b[38;5;28mself\u001b[39m,\n\u001b[32m   1721\u001b[39m     sql: \u001b[38;5;28mstr\u001b[39m,\n\u001b[32m   (...)\u001b[39m\u001b[32m   1728\u001b[39m     dtype_backend: DtypeBackend | Literal[\u001b[33m\"\u001b[39m\u001b[33mnumpy\u001b[39m\u001b[33m\"\u001b[39m] = \u001b[33m\"\u001b[39m\u001b[33mnumpy\u001b[39m\u001b[33m\"\u001b[39m,\n\u001b[32m   1729\u001b[39m ) -> DataFrame | Iterator[DataFrame]:\n\u001b[32m   1730\u001b[39m \u001b[38;5;250m    \u001b[39m\u001b[33;03m\"\"\"\u001b[39;00m\n\u001b[32m   1731\u001b[39m \u001b[33;03m    Read SQL query into a DataFrame.\u001b[39;00m\n\u001b[32m   1732\u001b[39m \n\u001b[32m   (...)\u001b[39m\u001b[32m   1774\u001b[39m \n\u001b[32m   1775\u001b[39m \u001b[33;03m    \"\"\"\u001b[39;00m\n\u001b[32m-> \u001b[39m\u001b[32m1776\u001b[39m     result = \u001b[38;5;28;43mself\u001b[39;49m\u001b[43m.\u001b[49m\u001b[43mexecute\u001b[49m\u001b[43m(\u001b[49m\u001b[43msql\u001b[49m\u001b[43m,\u001b[49m\u001b[43m \u001b[49m\u001b[43mparams\u001b[49m\u001b[43m)\u001b[49m\n\u001b[32m   1777\u001b[39m     columns = result.keys()\n\u001b[32m   1779\u001b[39m     \u001b[38;5;28;01mif\u001b[39;00m chunksize \u001b[38;5;129;01mis\u001b[39;00m \u001b[38;5;129;01mnot\u001b[39;00m \u001b[38;5;28;01mNone\u001b[39;00m:\n",
      "\u001b[36mFile \u001b[39m\u001b[32md:\\Perkuliahan\\Semester 5\\Poyek Sains Data\\PSD\\.venv\\Lib\\site-packages\\pandas\\io\\sql.py:1599\u001b[39m, in \u001b[36mSQLDatabase.execute\u001b[39m\u001b[34m(self, sql, params)\u001b[39m\n\u001b[32m   1597\u001b[39m args = [] \u001b[38;5;28;01mif\u001b[39;00m params \u001b[38;5;129;01mis\u001b[39;00m \u001b[38;5;28;01mNone\u001b[39;00m \u001b[38;5;28;01melse\u001b[39;00m [params]\n\u001b[32m   1598\u001b[39m \u001b[38;5;28;01mif\u001b[39;00m \u001b[38;5;28misinstance\u001b[39m(sql, \u001b[38;5;28mstr\u001b[39m):\n\u001b[32m-> \u001b[39m\u001b[32m1599\u001b[39m     \u001b[38;5;28;01mreturn\u001b[39;00m \u001b[38;5;28;43mself\u001b[39;49m\u001b[43m.\u001b[49m\u001b[43mcon\u001b[49m\u001b[43m.\u001b[49m\u001b[43mexec_driver_sql\u001b[49m\u001b[43m(\u001b[49m\u001b[43msql\u001b[49m\u001b[43m,\u001b[49m\u001b[43m \u001b[49m\u001b[43m*\u001b[49m\u001b[43margs\u001b[49m\u001b[43m)\u001b[49m\n\u001b[32m   1600\u001b[39m \u001b[38;5;28;01mreturn\u001b[39;00m \u001b[38;5;28mself\u001b[39m.con.execute(sql, *args)\n",
      "\u001b[36mFile \u001b[39m\u001b[32md:\\Perkuliahan\\Semester 5\\Poyek Sains Data\\PSD\\.venv\\Lib\\site-packages\\sqlalchemy\\engine\\base.py:1779\u001b[39m, in \u001b[36mConnection.exec_driver_sql\u001b[39m\u001b[34m(self, statement, parameters, execution_options)\u001b[39m\n\u001b[32m   1774\u001b[39m execution_options = \u001b[38;5;28mself\u001b[39m._execution_options.merge_with(\n\u001b[32m   1775\u001b[39m     execution_options\n\u001b[32m   1776\u001b[39m )\n\u001b[32m   1778\u001b[39m dialect = \u001b[38;5;28mself\u001b[39m.dialect\n\u001b[32m-> \u001b[39m\u001b[32m1779\u001b[39m ret = \u001b[38;5;28;43mself\u001b[39;49m\u001b[43m.\u001b[49m\u001b[43m_execute_context\u001b[49m\u001b[43m(\u001b[49m\n\u001b[32m   1780\u001b[39m \u001b[43m    \u001b[49m\u001b[43mdialect\u001b[49m\u001b[43m,\u001b[49m\n\u001b[32m   1781\u001b[39m \u001b[43m    \u001b[49m\u001b[43mdialect\u001b[49m\u001b[43m.\u001b[49m\u001b[43mexecution_ctx_cls\u001b[49m\u001b[43m.\u001b[49m\u001b[43m_init_statement\u001b[49m\u001b[43m,\u001b[49m\n\u001b[32m   1782\u001b[39m \u001b[43m    \u001b[49m\u001b[43mstatement\u001b[49m\u001b[43m,\u001b[49m\n\u001b[32m   1783\u001b[39m \u001b[43m    \u001b[49m\u001b[38;5;28;43;01mNone\u001b[39;49;00m\u001b[43m,\u001b[49m\n\u001b[32m   1784\u001b[39m \u001b[43m    \u001b[49m\u001b[43mexecution_options\u001b[49m\u001b[43m,\u001b[49m\n\u001b[32m   1785\u001b[39m \u001b[43m    \u001b[49m\u001b[43mstatement\u001b[49m\u001b[43m,\u001b[49m\n\u001b[32m   1786\u001b[39m \u001b[43m    \u001b[49m\u001b[43mdistilled_parameters\u001b[49m\u001b[43m,\u001b[49m\n\u001b[32m   1787\u001b[39m \u001b[43m\u001b[49m\u001b[43m)\u001b[49m\n\u001b[32m   1789\u001b[39m \u001b[38;5;28;01mreturn\u001b[39;00m ret\n",
      "\u001b[36mFile \u001b[39m\u001b[32md:\\Perkuliahan\\Semester 5\\Poyek Sains Data\\PSD\\.venv\\Lib\\site-packages\\sqlalchemy\\engine\\base.py:1846\u001b[39m, in \u001b[36mConnection._execute_context\u001b[39m\u001b[34m(self, dialect, constructor, statement, parameters, execution_options, *args, **kw)\u001b[39m\n\u001b[32m   1844\u001b[39m     \u001b[38;5;28;01mreturn\u001b[39;00m \u001b[38;5;28mself\u001b[39m._exec_insertmany_context(dialect, context)\n\u001b[32m   1845\u001b[39m \u001b[38;5;28;01melse\u001b[39;00m:\n\u001b[32m-> \u001b[39m\u001b[32m1846\u001b[39m     \u001b[38;5;28;01mreturn\u001b[39;00m \u001b[38;5;28;43mself\u001b[39;49m\u001b[43m.\u001b[49m\u001b[43m_exec_single_context\u001b[49m\u001b[43m(\u001b[49m\n\u001b[32m   1847\u001b[39m \u001b[43m        \u001b[49m\u001b[43mdialect\u001b[49m\u001b[43m,\u001b[49m\u001b[43m \u001b[49m\u001b[43mcontext\u001b[49m\u001b[43m,\u001b[49m\u001b[43m \u001b[49m\u001b[43mstatement\u001b[49m\u001b[43m,\u001b[49m\u001b[43m \u001b[49m\u001b[43mparameters\u001b[49m\n\u001b[32m   1848\u001b[39m \u001b[43m    \u001b[49m\u001b[43m)\u001b[49m\n",
      "\u001b[36mFile \u001b[39m\u001b[32md:\\Perkuliahan\\Semester 5\\Poyek Sains Data\\PSD\\.venv\\Lib\\site-packages\\sqlalchemy\\engine\\base.py:1986\u001b[39m, in \u001b[36mConnection._exec_single_context\u001b[39m\u001b[34m(self, dialect, context, statement, parameters)\u001b[39m\n\u001b[32m   1983\u001b[39m     result = context._setup_result_proxy()\n\u001b[32m   1985\u001b[39m \u001b[38;5;28;01mexcept\u001b[39;00m \u001b[38;5;167;01mBaseException\u001b[39;00m \u001b[38;5;28;01mas\u001b[39;00m e:\n\u001b[32m-> \u001b[39m\u001b[32m1986\u001b[39m     \u001b[38;5;28;43mself\u001b[39;49m\u001b[43m.\u001b[49m\u001b[43m_handle_dbapi_exception\u001b[49m\u001b[43m(\u001b[49m\n\u001b[32m   1987\u001b[39m \u001b[43m        \u001b[49m\u001b[43me\u001b[49m\u001b[43m,\u001b[49m\u001b[43m \u001b[49m\u001b[43mstr_statement\u001b[49m\u001b[43m,\u001b[49m\u001b[43m \u001b[49m\u001b[43meffective_parameters\u001b[49m\u001b[43m,\u001b[49m\u001b[43m \u001b[49m\u001b[43mcursor\u001b[49m\u001b[43m,\u001b[49m\u001b[43m \u001b[49m\u001b[43mcontext\u001b[49m\n\u001b[32m   1988\u001b[39m \u001b[43m    \u001b[49m\u001b[43m)\u001b[49m\n\u001b[32m   1990\u001b[39m \u001b[38;5;28;01mreturn\u001b[39;00m result\n",
      "\u001b[36mFile \u001b[39m\u001b[32md:\\Perkuliahan\\Semester 5\\Poyek Sains Data\\PSD\\.venv\\Lib\\site-packages\\sqlalchemy\\engine\\base.py:2358\u001b[39m, in \u001b[36mConnection._handle_dbapi_exception\u001b[39m\u001b[34m(self, e, statement, parameters, cursor, context, is_sub_exec)\u001b[39m\n\u001b[32m   2356\u001b[39m     \u001b[38;5;28;01melse\u001b[39;00m:\n\u001b[32m   2357\u001b[39m         \u001b[38;5;28;01massert\u001b[39;00m exc_info[\u001b[32m1\u001b[39m] \u001b[38;5;129;01mis\u001b[39;00m \u001b[38;5;129;01mnot\u001b[39;00m \u001b[38;5;28;01mNone\u001b[39;00m\n\u001b[32m-> \u001b[39m\u001b[32m2358\u001b[39m         \u001b[38;5;28;01mraise\u001b[39;00m exc_info[\u001b[32m1\u001b[39m].with_traceback(exc_info[\u001b[32m2\u001b[39m])\n\u001b[32m   2359\u001b[39m \u001b[38;5;28;01mfinally\u001b[39;00m:\n\u001b[32m   2360\u001b[39m     \u001b[38;5;28;01mdel\u001b[39;00m \u001b[38;5;28mself\u001b[39m._reentrant_error\n",
      "\u001b[36mFile \u001b[39m\u001b[32md:\\Perkuliahan\\Semester 5\\Poyek Sains Data\\PSD\\.venv\\Lib\\site-packages\\sqlalchemy\\engine\\base.py:1967\u001b[39m, in \u001b[36mConnection._exec_single_context\u001b[39m\u001b[34m(self, dialect, context, statement, parameters)\u001b[39m\n\u001b[32m   1965\u001b[39m                 \u001b[38;5;28;01mbreak\u001b[39;00m\n\u001b[32m   1966\u001b[39m     \u001b[38;5;28;01mif\u001b[39;00m \u001b[38;5;129;01mnot\u001b[39;00m evt_handled:\n\u001b[32m-> \u001b[39m\u001b[32m1967\u001b[39m         \u001b[38;5;28;43mself\u001b[39;49m\u001b[43m.\u001b[49m\u001b[43mdialect\u001b[49m\u001b[43m.\u001b[49m\u001b[43mdo_execute\u001b[49m\u001b[43m(\u001b[49m\n\u001b[32m   1968\u001b[39m \u001b[43m            \u001b[49m\u001b[43mcursor\u001b[49m\u001b[43m,\u001b[49m\u001b[43m \u001b[49m\u001b[43mstr_statement\u001b[49m\u001b[43m,\u001b[49m\u001b[43m \u001b[49m\u001b[43meffective_parameters\u001b[49m\u001b[43m,\u001b[49m\u001b[43m \u001b[49m\u001b[43mcontext\u001b[49m\n\u001b[32m   1969\u001b[39m \u001b[43m        \u001b[49m\u001b[43m)\u001b[49m\n\u001b[32m   1971\u001b[39m \u001b[38;5;28;01mif\u001b[39;00m \u001b[38;5;28mself\u001b[39m._has_events \u001b[38;5;129;01mor\u001b[39;00m \u001b[38;5;28mself\u001b[39m.engine._has_events:\n\u001b[32m   1972\u001b[39m     \u001b[38;5;28mself\u001b[39m.dispatch.after_cursor_execute(\n\u001b[32m   1973\u001b[39m         \u001b[38;5;28mself\u001b[39m,\n\u001b[32m   1974\u001b[39m         cursor,\n\u001b[32m   (...)\u001b[39m\u001b[32m   1978\u001b[39m         context.executemany,\n\u001b[32m   1979\u001b[39m     )\n",
      "\u001b[36mFile \u001b[39m\u001b[32md:\\Perkuliahan\\Semester 5\\Poyek Sains Data\\PSD\\.venv\\Lib\\site-packages\\sqlalchemy\\engine\\default.py:951\u001b[39m, in \u001b[36mDefaultDialect.do_execute\u001b[39m\u001b[34m(self, cursor, statement, parameters, context)\u001b[39m\n\u001b[32m    950\u001b[39m \u001b[38;5;28;01mdef\u001b[39;00m\u001b[38;5;250m \u001b[39m\u001b[34mdo_execute\u001b[39m(\u001b[38;5;28mself\u001b[39m, cursor, statement, parameters, context=\u001b[38;5;28;01mNone\u001b[39;00m):\n\u001b[32m--> \u001b[39m\u001b[32m951\u001b[39m     \u001b[43mcursor\u001b[49m\u001b[43m.\u001b[49m\u001b[43mexecute\u001b[49m\u001b[43m(\u001b[49m\u001b[43mstatement\u001b[49m\u001b[43m,\u001b[49m\u001b[43m \u001b[49m\u001b[43mparameters\u001b[49m\u001b[43m)\u001b[49m\n",
      "\u001b[36mFile \u001b[39m\u001b[32mC:\\Program Files\\WindowsApps\\PythonSoftwareFoundation.Python.3.11_3.11.2544.0_x64__qbz5n2kfra8p0\\Lib\\encodings\\utf_8.py:15\u001b[39m, in \u001b[36mdecode\u001b[39m\u001b[34m(input, errors)\u001b[39m\n\u001b[32m     11\u001b[39m \u001b[38;5;66;03m### Codec APIs\u001b[39;00m\n\u001b[32m     13\u001b[39m encode = codecs.utf_8_encode\n\u001b[32m---> \u001b[39m\u001b[32m15\u001b[39m \u001b[38;5;28;01mdef\u001b[39;00m\u001b[38;5;250m \u001b[39m\u001b[34mdecode\u001b[39m(\u001b[38;5;28minput\u001b[39m, errors=\u001b[33m'\u001b[39m\u001b[33mstrict\u001b[39m\u001b[33m'\u001b[39m):\n\u001b[32m     16\u001b[39m     \u001b[38;5;28;01mreturn\u001b[39;00m codecs.utf_8_decode(\u001b[38;5;28minput\u001b[39m, errors, \u001b[38;5;28;01mTrue\u001b[39;00m)\n\u001b[32m     18\u001b[39m \u001b[38;5;28;01mclass\u001b[39;00m\u001b[38;5;250m \u001b[39m\u001b[34;01mIncrementalEncoder\u001b[39;00m(codecs.IncrementalEncoder):\n",
      "\u001b[31mKeyboardInterrupt\u001b[39m: "
     ]
    }
   ],
   "source": [
    "pg_query = 'SELECT * FROM shoes_sales_cloud'\n",
    "pg_df = pd.read_sql(pg_query, postgres_engine)"
   ]
  },
  {
   "cell_type": "code",
   "execution_count": null,
   "id": "f50f6a24",
   "metadata": {},
   "outputs": [],
   "source": [
    "print(\"Berikut ini adalah dataset yang akan saya gunakan dalam tugas ini: \")\n",
    "print(pg_df)"
   ]
  },
  {
   "cell_type": "code",
   "execution_count": null,
   "id": "25b58de8",
   "metadata": {},
   "outputs": [],
   "source": [
    "df = pg_df.copy()"
   ]
  },
  {
   "cell_type": "markdown",
   "id": "ba7f9f3e",
   "metadata": {},
   "source": [
    "### **Tipe Data Dataset**"
   ]
  },
  {
   "cell_type": "code",
   "execution_count": null,
   "id": "00d8a13e",
   "metadata": {},
   "outputs": [],
   "source": [
    "print(type(df['Date'][0]))\n",
    "print(type(df['Product Name'][0]))\n",
    "print(type(df['Product Type'][0]))\n",
    "print(type(df['brand'][0]))\n",
    "print(type(df['gender'][0]))\n",
    "print(type(df['country'][0]))\n",
    "print(type(df['Unit Price ($)'][0]))\n",
    "print(type(df['Amount ($)'][0]))\n",
    "print(type(df['Payment Mode'][0]))"
   ]
  },
  {
   "cell_type": "markdown",
   "id": "93d26940",
   "metadata": {},
   "source": [
    "### **Eksplorasi Data**"
   ]
  },
  {
   "cell_type": "markdown",
   "id": "c10557d1",
   "metadata": {},
   "source": [
    "#### **Outliers Detection**"
   ]
  },
  {
   "cell_type": "code",
   "execution_count": null,
   "id": "4cff4b77",
   "metadata": {},
   "outputs": [],
   "source": [
    "import pandas as pd\n",
    "import matplotlib.pyplot as plt\n",
    "import seaborn as sns\n",
    "\n",
    "# hitung IQR\n",
    "Q1 = df['Unit Price ($)'].quantile(0.25)\n",
    "Q3 = df['Unit Price ($)'].quantile(0.75)\n",
    "IQR = Q3 - Q1\n",
    "lower_bound = Q1 - 1.5 * IQR\n",
    "upper_bound = Q3 + 1.5 * IQR\n",
    "\n",
    "# buat kolom outlier\n",
    "df['Outlier'] = ((df['Unit Price ($)'] < lower_bound) | \n",
    "                 (df['Unit Price ($)'] > upper_bound))\n",
    "\n",
    "# visualisasi boxplot\n",
    "plt.figure(figsize=(10,6))\n",
    "sns.boxplot(data=df, x='brand', y='Unit Price ($)', hue='Outlier',\n",
    "            palette={False:\"skyblue\", True:\"red\"})\n",
    "plt.title(\"Deteksi Outlier Harga per Brand\")\n",
    "plt.xticks(rotation=45)\n",
    "plt.show()"
   ]
  },
  {
   "cell_type": "markdown",
   "id": "a0438835",
   "metadata": {},
   "source": [
    "#### **Konsistensi Data**"
   ]
  },
  {
   "cell_type": "code",
   "execution_count": null,
   "id": "3d56aadf",
   "metadata": {},
   "outputs": [],
   "source": [
    "# ============================\n",
    "# Cek format tanggal valid\n",
    "# ============================\n",
    "df[\"valid_date\"] = pd.to_datetime(df[\"Date\"], errors=\"coerce\")\n",
    "invalid_dates = df[df[\"valid_date\"].isna()]\n",
    "\n",
    "# ============================\n",
    "# Cek konsistensi kolom Gender\n",
    "# ============================\n",
    "valid_genders = [\"Men\", \"Women\", \"Unisex\"]\n",
    "invalid_genders = df[~df[\"gender\"].isin(valid_genders)]\n",
    "\n",
    "# ============================\n",
    "# Cek nilai Quantity\n",
    "# ============================\n",
    "invalid_quantity = df[df[\"quantity\"] <= 0]\n",
    "\n",
    "# ============================\n",
    "# Cek konsistensi Amount = Quantity * Unit Price\n",
    "# ============================\n",
    "df[\"calc_amount\"] = df[\"quantity\"] * df[\"Unit Price ($)\"]\n",
    "invalid_amount = df[df[\"calc_amount\"].round(2) != df[\"Amount ($)\"].round(2)]\n",
    "\n",
    "# ============================\n",
    "# Cek Payment Mode\n",
    "# ============================\n",
    "valid_payment = [\"Card\", \"Cash on Delivery\", \"UPI\", \"Net Banking\", \"Wallet\"]\n",
    "invalid_payment = df[~df[\"Payment Mode\"].isin(valid_payment)]\n",
    "\n",
    "# ============================\n",
    "# Cek duplikasi data\n",
    "# ============================\n",
    "duplicates = df[df.duplicated(keep=False)]\n",
    "\n",
    "print(\"=== Data dengan format tanggal tidak valid ===\")\n",
    "print(invalid_dates)\n",
    "\n",
    "print(\"\\n=== Data dengan gender tidak valid ===\")\n",
    "print(invalid_genders)\n",
    "\n",
    "print(\"\\n=== Data dengan quantity tidak valid ===\")\n",
    "print(invalid_quantity)\n",
    "\n",
    "print(\"\\n=== Data dengan amount tidak konsisten ===\")\n",
    "print(invalid_amount)\n",
    "\n",
    "print(\"\\n=== Data dengan payment mode tidak valid ===\")\n",
    "print(invalid_payment)\n",
    "\n",
    "print(\"\\n=== Data duplikat ===\")\n",
    "print(duplicates)"
   ]
  },
  {
   "cell_type": "markdown",
   "id": "344dbd6c",
   "metadata": {},
   "source": [
    "#### **Missing Value**"
   ]
  },
  {
   "cell_type": "code",
   "execution_count": null,
   "id": "094f85c5",
   "metadata": {},
   "outputs": [],
   "source": [
    "print(\"Jumlah missing value per kolom:\")\n",
    "print(df.isnull().sum(), \"\\n\")\n",
    "\n",
    "missing_percentage = df.isnull().mean() * 100\n",
    "print(\"Persentase missing value per kolom:\")\n",
    "print(missing_percentage, \"\\n\")\n"
   ]
  }
 ],
 "metadata": {
  "kernelspec": {
   "display_name": ".venv",
   "language": "python",
   "name": "python3"
  },
  "language_info": {
   "codemirror_mode": {
    "name": "ipython",
    "version": 3
   },
   "file_extension": ".py",
   "mimetype": "text/x-python",
   "name": "python",
   "nbconvert_exporter": "python",
   "pygments_lexer": "ipython3",
   "version": "3.11.9"
  }
 },
 "nbformat": 4,
 "nbformat_minor": 5
}