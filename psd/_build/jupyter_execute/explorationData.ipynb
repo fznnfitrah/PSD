{
 "cells": [
  {
   "cell_type": "markdown",
   "id": "9131c4b4",
   "metadata": {},
   "source": [
    "# ***EXPLORATION DATA***"
   ]
  },
  {
   "cell_type": "code",
   "execution_count": 1,
   "id": "c5758d38",
   "metadata": {},
   "outputs": [],
   "source": [
    "import os\n",
    "import pandas as pd\n",
    "from dotenv import load_dotenv\n",
    "from sqlalchemy import create_engine"
   ]
  },
  {
   "cell_type": "code",
   "execution_count": 2,
   "id": "cdd861db",
   "metadata": {},
   "outputs": [],
   "source": [
    "load_dotenv()\n",
    "\n",
    "# Ambil variabel dari .env\n",
    "db_user = os.getenv(\"DB_USER\")\n",
    "db_password = os.getenv(\"DB_PASSWORD\")\n",
    "db_host = os.getenv(\"DB_HOST\")\n",
    "db_port = os.getenv(\"DB_PORT\")\n",
    "db_name = os.getenv(\"DB_NAME\")\n",
    "\n",
    "# Buat connection string\n",
    "connection_string = f\"postgresql+psycopg2://{db_user}:{db_password}@{db_host}:{db_port}/{db_name}\"\n",
    "\n",
    "# Buat engine SQLAlchemy\n",
    "postgres_engine = create_engine(connection_string)"
   ]
  },
  {
   "cell_type": "code",
   "execution_count": 3,
   "id": "f728ec91",
   "metadata": {},
   "outputs": [],
   "source": [
    "pg_query = 'SELECT * FROM shoes_sales_cloud'\n",
    "pg_df = pd.read_sql(pg_query, postgres_engine)"
   ]
  },
  {
   "cell_type": "code",
   "execution_count": 4,
   "id": "f50f6a24",
   "metadata": {},
   "outputs": [
    {
     "name": "stdout",
     "output_type": "stream",
     "text": [
      "           Date                Product Name Product Type       brand  gender  \\\n",
      "0    2022-05-27  Fear of God Essentials Tee      T-shirt  Essentials  Unisex   \n",
      "1    2022-08-22             Yeezy Boost 350     Sneakers      Adidas  Unisex   \n",
      "2    2022-04-03               Nike Dunk Low     Sneakers        Nike   Women   \n",
      "3    2022-07-13            Nike Tech Fleece       Hoodie        Nike     Men   \n",
      "4    2022-08-25               Jordan 1 High     Sneakers        Nike   Women   \n",
      "..          ...                         ...          ...         ...     ...   \n",
      "348  2022-04-08               Jordan 1 High     Sneakers        Nike     Men   \n",
      "349  2022-08-03            Nike Tech Fleece       Hoodie        Nike   Women   \n",
      "350  2022-05-05                Puma Joggers      Joggers        Puma   Women   \n",
      "351  2022-05-19           Adidas Ultraboost     Sneakers      Adidas     Men   \n",
      "352  2022-07-17               Nike Dunk Low     Sneakers        Nike   Women   \n",
      "\n",
      "            category    country  quantity  Unit Price ($)  Amount ($)  \\\n",
      "0    Limited Edition      Japan         5          141.82      709.10   \n",
      "1         Streetwear        USA         2          267.34      534.68   \n",
      "2    Limited Edition    Germany         1          292.00      292.00   \n",
      "3    Limited Edition        USA         4          245.44      981.76   \n",
      "4             Casual  Australia         2          184.51      369.02   \n",
      "..               ...        ...       ...             ...         ...   \n",
      "348           Casual      India         5           94.25      471.25   \n",
      "349           Casual    Germany         5          259.00     1295.00   \n",
      "350           Casual    Germany         4          299.73     1198.92   \n",
      "351           Casual     Canada         5           71.26      356.30   \n",
      "352  Limited Edition      Japan         5          270.14     1350.70   \n",
      "\n",
      "         Payment Mode  \n",
      "0                Card  \n",
      "1    Cash on Delivery  \n",
      "2    Cash on Delivery  \n",
      "3    Cash on Delivery  \n",
      "4    Cash on Delivery  \n",
      "..                ...  \n",
      "348            Wallet  \n",
      "349              Card  \n",
      "350  Cash on Delivery  \n",
      "351  Cash on Delivery  \n",
      "352            Wallet  \n",
      "\n",
      "[353 rows x 11 columns]\n"
     ]
    }
   ],
   "source": [
    "print(pg_df)"
   ]
  },
  {
   "cell_type": "markdown",
   "id": "b4cb5fc9",
   "metadata": {},
   "source": [
    "## **Mengetahui Tipe Data**\n",
    "\n",
    "Pertama tama kita akan mengentahui terlebih dahulu, kira kira apa tipe data dari setiap kolom yang ada pada dataset yang sudah kita kumpulkan. berikut ini adalah tipe datanya\n",
    "\n",
    "![tipe-data](type-data-sneakers.png \"Tipe Data Power BI\")\n",
    "\n",
    "\n",
    "![tipe-data-table](type-data-table-sneakers.png \"Tipe Data Table\")\n"
   ]
  },
  {
   "cell_type": "markdown",
   "id": "d7cbf09c",
   "metadata": {},
   "source": [
    "## **Quality Check Data**\n",
    "\n",
    "Pada power BI kita bisa melihat kualitas dari suatu data. Caranya adalah dengan mengklik tab Transformasi Data. Selanjutnya berikut ini adalah point point yang penulis akan cek. \n",
    "\n",
    "-  **Outliers Detection**\n",
    "\n",
    "    Berikut ini adalah proses pengecekan outliers dengan menggunakan Power BI, dimana saya juga menjalankan script python untuk menampilkan scatter plotnya\n",
    "    ![outliers-detection-sneakers](outliers-detection-sneakers.png \"Outliers Detection\")\n",
    "\n",
    "- **Konsistensi Data** \n",
    "\n",
    "    Data bagus, jadi tidak ada data unik pada kolom yang memang datanya adalah klasifikasi. Berikut ini adalah salah satu contoh gambar yang penulis berikan untuk mengecek konsistensi data. Dimana data gender tidak memiliki data unik dan tetap menggunakan 3 data saja antara Men, Women, Unisex\n",
    "    ![konstistensi-data-sneakers](konsistensi-data-sneakers.png \"Konsistensi data\")\n",
    "\n",
    "-  **Missing Value**\n",
    "    \n",
    "    Pada dataset yang saya cari dan gunakah tidak ditemukan adanya missing value, bisa terlihat pada gambar yang ada dibawah ini bahwa nilai dari missing valuenya adalah nol. Jadi dataset yang saya gunakan cukup bagus. \n",
    "\n",
    "    ![checking-missing-value](checking-missing-value-sneakers.png \"Missing Value Check\")\n",
    "\n"
   ]
  }
 ],
 "metadata": {
  "kernelspec": {
   "display_name": "Python 3",
   "language": "python",
   "name": "python3"
  },
  "language_info": {
   "codemirror_mode": {
    "name": "ipython",
    "version": 3
   },
   "file_extension": ".py",
   "mimetype": "text/x-python",
   "name": "python",
   "nbconvert_exporter": "python",
   "pygments_lexer": "ipython3",
   "version": "3.13.7"
  }
 },
 "nbformat": 4,
 "nbformat_minor": 5
}