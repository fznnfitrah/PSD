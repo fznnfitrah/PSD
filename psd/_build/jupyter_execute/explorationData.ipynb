{
 "cells": [
  {
   "cell_type": "markdown",
   "id": "9131c4b4",
   "metadata": {},
   "source": [
    "# ***EXPLORATION DATA***"
   ]
  },
  {
   "cell_type": "markdown",
   "id": "f559aff1",
   "metadata": {},
   "source": [
    "## **POWER BI**"
   ]
  },
  {
   "cell_type": "markdown",
   "id": "4b1c3fa6",
   "metadata": {},
   "source": [
    "### **Tipe Data Dataset**\n",
    "\n",
    "Pertama tama kita akan mengentahui terlebih dahulu, kira kira apa tipe data dari setiap kolom yang ada pada dataset yang sudah kita kumpulkan. berikut ini adalah tipe datanya\n",
    "\n",
    "![tipe-data-table](type-data-table-sneakers.png \"Tipe Data Table\")\n",
    "\n",
    "![tipe-data](type-data-sneakers.png \"Tipe Data Power BI\")\n",
    "\n"
   ]
  },
  {
   "cell_type": "markdown",
   "id": "077ad315",
   "metadata": {},
   "source": [
    "### **Quality Check Data**\n",
    "\n",
    "Pada power BI kita bisa melihat kualitas dari suatu data. Caranya adalah dengan mengklik tab Transformasi Data. Selanjutnya berikut ini adalah point point yang penulis akan cek. \n",
    "\n",
    "-  **Outliers Detection**\n",
    "\n",
    "    Berikut ini adalah proses pengecekan outliers dengan menggunakan Power BI, dimana saya juga menjalankan script python untuk menampilkan scatter plotnya\n",
    "    ![outliers-detection-sneakers](outliers-detection-sneakers.png \"Outliers Detection\")\n",
    "\n",
    "- **Konsistensi Data** \n",
    "\n",
    "    Data bagus, jadi tidak ada data unik pada kolom yang memang datanya adalah klasifikasi. Berikut ini adalah salah satu contoh gambar yang penulis berikan untuk mengecek konsistensi data. Dimana data gender tidak memiliki data unik dan tetap menggunakan 3 data saja antara Men, Women, Unisex\n",
    "    ![konstistensi-data-sneakers](konsistensi-data-sneakers.png \"Konsistensi data\")\n",
    "\n",
    "-  **Missing Value**\n",
    "    \n",
    "    Pada dataset yang saya cari dan gunakah tidak ditemukan adanya missing value, bisa terlihat pada gambar yang ada dibawah ini bahwa nilai dari missing valuenya adalah nol. Jadi dataset yang saya gunakan cukup bagus. \n",
    "\n",
    "    ![checking-missing-value](checking-missing-value-sneakers.png \"Missing Value Check\")\n",
    "\n"
   ]
  },
  {
   "cell_type": "markdown",
   "id": "b146ab60",
   "metadata": {},
   "source": [
    "## **Python**"
   ]
  },
  {
   "cell_type": "markdown",
   "id": "3f78a9e0",
   "metadata": {},
   "source": [
    "### **Koneksi dengan PostgresSQL**"
   ]
  },
  {
   "cell_type": "code",
   "execution_count": 1,
   "id": "c5758d38",
   "metadata": {},
   "outputs": [
    {
     "ename": "ModuleNotFoundError",
     "evalue": "No module named 'dotenv'",
     "output_type": "error",
     "traceback": [
      "\u001b[31m---------------------------------------------------------------------------\u001b[39m",
      "\u001b[31mModuleNotFoundError\u001b[39m                       Traceback (most recent call last)",
      "\u001b[36mCell\u001b[39m\u001b[36m \u001b[39m\u001b[32mIn[1]\u001b[39m\u001b[32m, line 3\u001b[39m\n\u001b[32m      1\u001b[39m \u001b[38;5;28;01mimport\u001b[39;00m\u001b[38;5;250m \u001b[39m\u001b[34;01mos\u001b[39;00m\n\u001b[32m      2\u001b[39m \u001b[38;5;28;01mimport\u001b[39;00m\u001b[38;5;250m \u001b[39m\u001b[34;01mpandas\u001b[39;00m\u001b[38;5;250m \u001b[39m\u001b[38;5;28;01mas\u001b[39;00m\u001b[38;5;250m \u001b[39m\u001b[34;01mpd\u001b[39;00m\n\u001b[32m----> \u001b[39m\u001b[32m3\u001b[39m \u001b[38;5;28;01mfrom\u001b[39;00m\u001b[38;5;250m \u001b[39m\u001b[34;01mdotenv\u001b[39;00m\u001b[38;5;250m \u001b[39m\u001b[38;5;28;01mimport\u001b[39;00m load_dotenv\n\u001b[32m      4\u001b[39m \u001b[38;5;28;01mfrom\u001b[39;00m\u001b[38;5;250m \u001b[39m\u001b[34;01msqlalchemy\u001b[39;00m\u001b[38;5;250m \u001b[39m\u001b[38;5;28;01mimport\u001b[39;00m create_engine\n",
      "\u001b[31mModuleNotFoundError\u001b[39m: No module named 'dotenv'"
     ]
    }
   ],
   "source": [
    "import os\n",
    "import pandas as pd\n",
    "from dotenv import load_dotenv\n",
    "from sqlalchemy import create_engine"
   ]
  },
  {
   "cell_type": "code",
   "execution_count": 2,
   "id": "cdd861db",
   "metadata": {},
   "outputs": [
    {
     "name": "stderr",
     "output_type": "stream",
     "text": [
      "python-dotenv could not parse statement starting at line 16\n",
      "python-dotenv could not parse statement starting at line 19\n"
     ]
    }
   ],
   "source": [
    "load_dotenv()\n",
    "\n",
    "# Ambil variabel dari .env\n",
    "db_user = os.getenv(\"USER_POSTGRES\")\n",
    "db_password = os.getenv(\"PASS_POSTGRES\")\n",
    "db_host = os.getenv(\"HOST_POSTGRES\")\n",
    "db_port = os.getenv(\"PORT_POSTGRES\")\n",
    "db_name = os.getenv(\"DB_POSTGRES\")\n",
    "    \n",
    "connection_string = f\"postgresql+psycopg2://{db_user}:{db_password}@{db_host}:{db_port}/{db_name}\"\n",
    "\n",
    "postgres_engine = create_engine(connection_string)"
   ]
  },
  {
   "cell_type": "code",
   "execution_count": 3,
   "id": "f728ec91",
   "metadata": {},
   "outputs": [],
   "source": [
    "pg_query = 'SELECT * FROM shoes_sales_cloud'\n",
    "pg_df = pd.read_sql(pg_query, postgres_engine)"
   ]
  },
  {
   "cell_type": "code",
   "execution_count": 4,
   "id": "f50f6a24",
   "metadata": {},
   "outputs": [
    {
     "name": "stdout",
     "output_type": "stream",
     "text": [
      "Berikut ini adalah dataset yang akan saya gunakan dalam tugas ini: \n",
      "           Date                Product Name Product Type       brand  gender  \\\n",
      "0    2022-05-27  Fear of God Essentials Tee      T-shirt  Essentials  Unisex   \n",
      "1    2022-08-22             Yeezy Boost 350     Sneakers      Adidas  Unisex   \n",
      "2    2022-04-03               Nike Dunk Low     Sneakers        Nike   Women   \n",
      "3    2022-07-13            Nike Tech Fleece       Hoodie        Nike     Men   \n",
      "4    2022-08-25               Jordan 1 High     Sneakers        Nike   Women   \n",
      "..          ...                         ...          ...         ...     ...   \n",
      "348  2022-04-08               Jordan 1 High     Sneakers        Nike     Men   \n",
      "349  2022-08-03            Nike Tech Fleece       Hoodie        Nike   Women   \n",
      "350  2022-05-05                Puma Joggers      Joggers        Puma   Women   \n",
      "351  2022-05-19           Adidas Ultraboost     Sneakers      Adidas     Men   \n",
      "352  2022-07-17               Nike Dunk Low     Sneakers        Nike   Women   \n",
      "\n",
      "            category    country  quantity  Unit Price ($)  Amount ($)  \\\n",
      "0    Limited Edition      Japan         5          141.82      709.10   \n",
      "1         Streetwear        USA         2          267.34      534.68   \n",
      "2    Limited Edition    Germany         1          292.00      292.00   \n",
      "3    Limited Edition        USA         4          245.44      981.76   \n",
      "4             Casual  Australia         2          184.51      369.02   \n",
      "..               ...        ...       ...             ...         ...   \n",
      "348           Casual      India         5           94.25      471.25   \n",
      "349           Casual    Germany         5          259.00     1295.00   \n",
      "350           Casual    Germany         4          299.73     1198.92   \n",
      "351           Casual     Canada         5           71.26      356.30   \n",
      "352  Limited Edition      Japan         5          270.14     1350.70   \n",
      "\n",
      "         Payment Mode  \n",
      "0                Card  \n",
      "1    Cash on Delivery  \n",
      "2    Cash on Delivery  \n",
      "3    Cash on Delivery  \n",
      "4    Cash on Delivery  \n",
      "..                ...  \n",
      "348            Wallet  \n",
      "349              Card  \n",
      "350  Cash on Delivery  \n",
      "351  Cash on Delivery  \n",
      "352            Wallet  \n",
      "\n",
      "[353 rows x 11 columns]\n"
     ]
    }
   ],
   "source": [
    "print(\"Berikut ini adalah dataset yang akan saya gunakan dalam tugas ini: \")\n",
    "print(pg_df)"
   ]
  },
  {
   "cell_type": "code",
   "execution_count": 5,
   "id": "25b58de8",
   "metadata": {},
   "outputs": [],
   "source": [
    "df = pg_df.copy()"
   ]
  },
  {
   "cell_type": "markdown",
   "id": "ba7f9f3e",
   "metadata": {},
   "source": [
    "### **Tipe Data Dataset**"
   ]
  },
  {
   "cell_type": "code",
   "execution_count": 6,
   "id": "00d8a13e",
   "metadata": {},
   "outputs": [
    {
     "name": "stdout",
     "output_type": "stream",
     "text": [
      "<class 'str'>\n",
      "<class 'str'>\n",
      "<class 'str'>\n",
      "<class 'str'>\n",
      "<class 'str'>\n",
      "<class 'str'>\n",
      "<class 'numpy.float64'>\n",
      "<class 'numpy.float64'>\n",
      "<class 'str'>\n"
     ]
    }
   ],
   "source": [
    "print(type(df['Date'][0]))\n",
    "print(type(df['Product Name'][0]))\n",
    "print(type(df['Product Type'][0]))\n",
    "print(type(df['brand'][0]))\n",
    "print(type(df['gender'][0]))\n",
    "print(type(df['country'][0]))\n",
    "print(type(df['Unit Price ($)'][0]))\n",
    "print(type(df['Amount ($)'][0]))\n",
    "print(type(df['Payment Mode'][0]))"
   ]
  },
  {
   "cell_type": "markdown",
   "id": "93d26940",
   "metadata": {},
   "source": [
    "### **Eksplorasi Data**"
   ]
  },
  {
   "cell_type": "markdown",
   "id": "c10557d1",
   "metadata": {},
   "source": [
    "#### **Outliers Detection**"
   ]
  },
  {
   "cell_type": "code",
   "execution_count": 7,
   "id": "4cff4b77",
   "metadata": {},
   "outputs": [
    {
     "data": {
      "image/png": "[encoded data removed]",
      "text/plain": [
       "<Figure size 1000x600 with 1 Axes>"
      ]
     },
     "metadata": {},
     "output_type": "display_data"
    }
   ],
   "source": [
    "import pandas as pd\n",
    "import matplotlib.pyplot as plt\n",
    "import seaborn as sns\n",
    "\n",
    "# hitung IQR\n",
    "Q1 = df['Unit Price ($)'].quantile(0.25)\n",
    "Q3 = df['Unit Price ($)'].quantile(0.75)\n",
    "IQR = Q3 - Q1\n",
    "lower_bound = Q1 - 1.5 * IQR\n",
    "upper_bound = Q3 + 1.5 * IQR\n",
    "\n",
    "# buat kolom outlier\n",
    "df['Outlier'] = ((df['Unit Price ($)'] < lower_bound) | \n",
    "                 (df['Unit Price ($)'] > upper_bound))\n",
    "\n",
    "# visualisasi boxplot\n",
    "plt.figure(figsize=(10,6))\n",
    "sns.boxplot(data=df, x='brand', y='Unit Price ($)', hue='Outlier',\n",
    "            palette={False:\"skyblue\", True:\"red\"})\n",
    "plt.title(\"Deteksi Outlier Harga per Brand\")\n",
    "plt.xticks(rotation=45)\n",
    "plt.show()"
   ]
  },
  {
   "cell_type": "markdown",
   "id": "a0438835",
   "metadata": {},
   "source": [
    "#### **Konsistensi Data**"
   ]
  },
  {
   "cell_type": "code",
   "execution_count": 8,
   "id": "3d56aadf",
   "metadata": {},
   "outputs": [
    {
     "name": "stdout",
     "output_type": "stream",
     "text": [
      "=== Data dengan format tanggal tidak valid ===\n",
      "Empty DataFrame\n",
      "Columns: [Date, Product Name, Product Type, brand, gender, category, country, quantity, Unit Price ($), Amount ($), Payment Mode, Outlier, valid_date]\n",
      "Index: []\n",
      "\n",
      "=== Data dengan gender tidak valid ===\n",
      "Empty DataFrame\n",
      "Columns: [Date, Product Name, Product Type, brand, gender, category, country, quantity, Unit Price ($), Amount ($), Payment Mode, Outlier, valid_date]\n",
      "Index: []\n",
      "\n",
      "=== Data dengan quantity tidak valid ===\n",
      "Empty DataFrame\n",
      "Columns: [Date, Product Name, Product Type, brand, gender, category, country, quantity, Unit Price ($), Amount ($), Payment Mode, Outlier, valid_date]\n",
      "Index: []\n",
      "\n",
      "=== Data dengan amount tidak konsisten ===\n",
      "Empty DataFrame\n",
      "Columns: [Date, Product Name, Product Type, brand, gender, category, country, quantity, Unit Price ($), Amount ($), Payment Mode, Outlier, valid_date, calc_amount]\n",
      "Index: []\n",
      "\n",
      "=== Data dengan payment mode tidak valid ===\n",
      "Empty DataFrame\n",
      "Columns: [Date, Product Name, Product Type, brand, gender, category, country, quantity, Unit Price ($), Amount ($), Payment Mode, Outlier, valid_date, calc_amount]\n",
      "Index: []\n",
      "\n",
      "=== Data duplikat ===\n",
      "Empty DataFrame\n",
      "Columns: [Date, Product Name, Product Type, brand, gender, category, country, quantity, Unit Price ($), Amount ($), Payment Mode, Outlier, valid_date, calc_amount]\n",
      "Index: []\n"
     ]
    }
   ],
   "source": [
    "# ============================\n",
    "# Cek format tanggal valid\n",
    "# ============================\n",
    "df[\"valid_date\"] = pd.to_datetime(df[\"Date\"], errors=\"coerce\")\n",
    "invalid_dates = df[df[\"valid_date\"].isna()]\n",
    "\n",
    "# ============================\n",
    "# Cek konsistensi kolom Gender\n",
    "# ============================\n",
    "valid_genders = [\"Men\", \"Women\", \"Unisex\"]\n",
    "invalid_genders = df[~df[\"gender\"].isin(valid_genders)]\n",
    "\n",
    "# ============================\n",
    "# Cek nilai Quantity\n",
    "# ============================\n",
    "invalid_quantity = df[df[\"quantity\"] <= 0]\n",
    "\n",
    "# ============================\n",
    "# Cek konsistensi Amount = Quantity * Unit Price\n",
    "# ============================\n",
    "df[\"calc_amount\"] = df[\"quantity\"] * df[\"Unit Price ($)\"]\n",
    "invalid_amount = df[df[\"calc_amount\"].round(2) != df[\"Amount ($)\"].round(2)]\n",
    "\n",
    "# ============================\n",
    "# Cek Payment Mode\n",
    "# ============================\n",
    "valid_payment = [\"Card\", \"Cash on Delivery\", \"UPI\", \"Net Banking\", \"Wallet\"]\n",
    "invalid_payment = df[~df[\"Payment Mode\"].isin(valid_payment)]\n",
    "\n",
    "# ============================\n",
    "# Cek duplikasi data\n",
    "# ============================\n",
    "duplicates = df[df.duplicated(keep=False)]\n",
    "\n",
    "print(\"=== Data dengan format tanggal tidak valid ===\")\n",
    "print(invalid_dates)\n",
    "\n",
    "print(\"\\n=== Data dengan gender tidak valid ===\")\n",
    "print(invalid_genders)\n",
    "\n",
    "print(\"\\n=== Data dengan quantity tidak valid ===\")\n",
    "print(invalid_quantity)\n",
    "\n",
    "print(\"\\n=== Data dengan amount tidak konsisten ===\")\n",
    "print(invalid_amount)\n",
    "\n",
    "print(\"\\n=== Data dengan payment mode tidak valid ===\")\n",
    "print(invalid_payment)\n",
    "\n",
    "print(\"\\n=== Data duplikat ===\")\n",
    "print(duplicates)"
   ]
  },
  {
   "cell_type": "markdown",
   "id": "344dbd6c",
   "metadata": {},
   "source": [
    "#### **Missing Value**"
   ]
  },
  {
   "cell_type": "code",
   "execution_count": 9,
   "id": "094f85c5",
   "metadata": {},
   "outputs": [
    {
     "name": "stdout",
     "output_type": "stream",
     "text": [
      "Jumlah missing value per kolom:\n",
      "Date              0\n",
      "Product Name      0\n",
      "Product Type      0\n",
      "brand             0\n",
      "gender            0\n",
      "category          0\n",
      "country           0\n",
      "quantity          0\n",
      "Unit Price ($)    0\n",
      "Amount ($)        0\n",
      "Payment Mode      0\n",
      "Outlier           0\n",
      "valid_date        0\n",
      "calc_amount       0\n",
      "dtype: int64 \n",
      "\n",
      "Persentase missing value per kolom:\n",
      "Date              0.0\n",
      "Product Name      0.0\n",
      "Product Type      0.0\n",
      "brand             0.0\n",
      "gender            0.0\n",
      "category          0.0\n",
      "country           0.0\n",
      "quantity          0.0\n",
      "Unit Price ($)    0.0\n",
      "Amount ($)        0.0\n",
      "Payment Mode      0.0\n",
      "Outlier           0.0\n",
      "valid_date        0.0\n",
      "calc_amount       0.0\n",
      "dtype: float64 \n",
      "\n"
     ]
    }
   ],
   "source": [
    "print(\"Jumlah missing value per kolom:\")\n",
    "print(df.isnull().sum(), \"\\n\")\n",
    "\n",
    "missing_percentage = df.isnull().mean() * 100\n",
    "print(\"Persentase missing value per kolom:\")\n",
    "print(missing_percentage, \"\\n\")\n"
   ]
  }
 ],
 "metadata": {
  "kernelspec": {
   "display_name": ".venv",
   "language": "python",
   "name": "python3"
  },
  "language_info": {
   "codemirror_mode": {
    "name": "ipython",
    "version": 3
   },
   "file_extension": ".py",
   "mimetype": "text/x-python",
   "name": "python",
   "nbconvert_exporter": "python",
   "pygments_lexer": "ipython3",
   "version": "3.12.1"
  }
 },
 "nbformat": 4,
 "nbformat_minor": 5
}