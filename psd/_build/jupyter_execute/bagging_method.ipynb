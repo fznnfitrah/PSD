{
 "cells": [
  {
   "cell_type": "markdown",
   "id": "f85ad18f",
   "metadata": {},
   "source": [
    "# ***Bagging Method***"
   ]
  },
  {
   "cell_type": "markdown",
   "id": "bef05f0c",
   "metadata": {},
   "source": []
  },
  {
   "cell_type": "code",
   "execution_count": 1,
   "id": "1798b829",
   "metadata": {},
   "outputs": [],
   "source": [
    "import pandas as pd\n",
    "from sklearn.model_selection import train_test_split\n",
    "from sklearn.preprocessing import LabelEncoder\n",
    "from sklearn.ensemble import BaggingClassifier\n",
    "from sklearn.naive_bayes import GaussianNB\n",
    "from sklearn.svm import SVC\n",
    "from imblearn.over_sampling import SMOTE\n",
    "from sklearn.metrics import accuracy_score, classification_report, confusion_matrix\n",
    "from collections import Counter\n"
   ]
  },
  {
   "cell_type": "code",
   "execution_count": 2,
   "id": "0183749e",
   "metadata": {},
   "outputs": [
    {
     "name": "stdout",
     "output_type": "stream",
     "text": [
      "Distribusi sebelum SMOTE: Counter({0: 36548, 1: 4640})\n"
     ]
    }
   ],
   "source": [
    "# 1️⃣ Baca dataset\n",
    "df = pd.read_csv(\"bank-additional-full.csv\", sep=';')\n",
    "\n",
    "# 2️⃣ Pisahkan fitur dan target\n",
    "X = df.drop(columns=[\"y\"])\n",
    "y = df[\"y\"]\n",
    "\n",
    "# 3️⃣ Encode kolom kategorikal\n",
    "for col in X.columns:\n",
    "    if X[col].dtype == 'object':\n",
    "        le = LabelEncoder()\n",
    "        X[col] = le.fit_transform(X[col])\n",
    "\n",
    "# Encode target juga\n",
    "y = LabelEncoder().fit_transform(y)  # 'no' -> 0, 'yes' -> 1\n",
    "\n",
    "print(\"Distribusi sebelum SMOTE:\", Counter(y))\n"
   ]
  },
  {
   "cell_type": "code",
   "execution_count": 3,
   "id": "e70503e6",
   "metadata": {},
   "outputs": [
    {
     "name": "stdout",
     "output_type": "stream",
     "text": [
      "Distribusi sesudah SMOTE: Counter({0: 36548, 1: 36548})\n"
     ]
    }
   ],
   "source": [
    "\n",
    "\n",
    "#  Terapkan SMOTE untuk menyeimbangkan kelas\n",
    "sm = SMOTE(random_state=42)\n",
    "X_res, y_res = sm.fit_resample(X, y)\n",
    "\n",
    "print(\"Distribusi sesudah SMOTE:\", Counter(y_res))\n",
    "\n",
    "# 5️⃣ Split data train-test\n",
    "X_train, X_test, y_train, y_test = train_test_split(\n",
    "    X_res, y_res, test_size=0.2, random_state=42, stratify=y_res\n",
    ")\n",
    "\n"
   ]
  },
  {
   "cell_type": "code",
   "execution_count": 4,
   "id": "e37fe44f",
   "metadata": {},
   "outputs": [
    {
     "name": "stdout",
     "output_type": "stream",
     "text": [
      "=== Bagging dengan Naive Bayes ===\n",
      "Accuracy: 0.7963064295485636\n",
      "              precision    recall  f1-score   support\n",
      "\n",
      "           0       0.80      0.79      0.80      7310\n",
      "           1       0.79      0.80      0.80      7310\n",
      "\n",
      "    accuracy                           0.80     14620\n",
      "   macro avg       0.80      0.80      0.80     14620\n",
      "weighted avg       0.80      0.80      0.80     14620\n",
      "\n"
     ]
    }
   ],
   "source": [
    "bagging_nb = BaggingClassifier(\n",
    "    estimator=GaussianNB(),   # ✅ Naive Bayes sebagai base model\n",
    "    n_estimators=30,\n",
    "    random_state=42\n",
    ")\n",
    "bagging_nb.fit(X_train, y_train)\n",
    "y_pred_nb = bagging_nb.predict(X_test)\n",
    "\n",
    "print(\"=== Bagging dengan Naive Bayes ===\")\n",
    "print(\"Accuracy:\", accuracy_score(y_test, y_pred_nb))\n",
    "print(classification_report(y_test, y_pred_nb))\n"
   ]
  },
  {
   "cell_type": "code",
   "execution_count": 5,
   "id": "2866a5df",
   "metadata": {},
   "outputs": [
    {
     "name": "stderr",
     "output_type": "stream",
     "text": [
      "D:\\Perkuliahan\\Semester 5\\Poyek Sains Data\\PSD\\venv_py3.11\\Lib\\site-packages\\sklearn\\svm\\_base.py:297: ConvergenceWarning: Solver terminated early (max_iter=3000).  Consider pre-processing your data with StandardScaler or MinMaxScaler.\n",
      "  warnings.warn(\n"
     ]
    },
    {
     "name": "stderr",
     "output_type": "stream",
     "text": [
      "D:\\Perkuliahan\\Semester 5\\Poyek Sains Data\\PSD\\venv_py3.11\\Lib\\site-packages\\sklearn\\svm\\_base.py:297: ConvergenceWarning: Solver terminated early (max_iter=3000).  Consider pre-processing your data with StandardScaler or MinMaxScaler.\n",
      "  warnings.warn(\n"
     ]
    },
    {
     "name": "stderr",
     "output_type": "stream",
     "text": [
      "D:\\Perkuliahan\\Semester 5\\Poyek Sains Data\\PSD\\venv_py3.11\\Lib\\site-packages\\sklearn\\svm\\_base.py:297: ConvergenceWarning: Solver terminated early (max_iter=3000).  Consider pre-processing your data with StandardScaler or MinMaxScaler.\n",
      "  warnings.warn(\n"
     ]
    }
   ],
   "source": [
    "# Bagging dengan SVM\n",
    "bagging_svm = BaggingClassifier(\n",
    "    estimator=SVC(random_state=42, max_iter=3000),\n",
    "    n_estimators=5,  # jangan terlalu besar karena SVM cukup berat\n",
    "    random_state=42\n",
    ")\n",
    "bagging_svm.fit(X_train, y_train)\n",
    "y_pred_svm = bagging_svm.predict(X_test)\n",
    "\n",
    "print(\"\\n=== Bagging dengan SVM ===\")\n",
    "print(\"Accuracy:\", accuracy_score(y_test, y_pred_svm))\n",
    "print(classification_report(y_test, y_pred_svm))"
   ]
  }
 ],
 "metadata": {
  "kernelspec": {
   "display_name": "Python 3",
   "language": "python",
   "name": "python3"
  },
  "language_info": {
   "codemirror_mode": {
    "name": "ipython",
    "version": 3
   },
   "file_extension": ".py",
   "mimetype": "text/x-python",
   "name": "python",
   "nbconvert_exporter": "python",
   "pygments_lexer": "ipython3",
   "version": "3.11.9"
  }
 },
 "nbformat": 4,
 "nbformat_minor": 5
}