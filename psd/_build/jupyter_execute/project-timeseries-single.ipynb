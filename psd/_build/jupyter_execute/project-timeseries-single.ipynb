{
 "cells": [
  {
   "cell_type": "markdown",
   "id": "a0fb4009",
   "metadata": {},
   "source": [
    "# ***Project Time Series Using NO2 from Copernicus***"
   ]
  },
  {
   "cell_type": "markdown",
   "id": "e75fcb6d",
   "metadata": {},
   "source": [
    "## **Taking Dataset From Copernicus**"
   ]
  },
  {
   "cell_type": "code",
   "execution_count": 1,
   "id": "d0434915",
   "metadata": {},
   "outputs": [],
   "source": [
    "import openeo\n",
    "import pandas as pd"
   ]
  },
  {
   "cell_type": "code",
   "execution_count": 2,
   "id": "885f5ee0",
   "metadata": {},
   "outputs": [
    {
     "name": "stdout",
     "output_type": "stream",
     "text": [
      "Authenticated using refresh token.\n"
     ]
    }
   ],
   "source": [
    "# ==============================================================================\n",
    "# 1. KONEKSI & 2. DEFINISI AREA (AOI)\n",
    "# (Tidak ada perubahan di sini)\n",
    "# ==============================================================================\n",
    "connection = openeo.connect(\"openeo.dataspace.copernicus.eu\").authenticate_oidc()\n"
   ]
  },
  {
   "cell_type": "code",
   "execution_count": 3,
   "id": "2854e730",
   "metadata": {},
   "outputs": [],
   "source": [
    "aoi = {\n",
    "    \"type\": \"Polygon\",\n",
    "    \"coordinates\": [\n",
    "        [\n",
    "            [113.76938301228396, -7.0503186921347223],\n",
    "            [113.76938301228396, -7.050631550698786],\n",
    "            [113.80355738445064, -7.050631550698786],\n",
    "            [113.80355738445064, -7.0503186921347223],\n",
    "            [113.76938301228396, -7.0503186921347223]\n",
    "        ]\n",
    "    ]\n",
    "}"
   ]
  },
  {
   "cell_type": "code",
   "execution_count": 4,
   "id": "bab777f8",
   "metadata": {},
   "outputs": [],
   "source": [
    "s5p_no2 = connection.load_collection(\n",
    "    \"SENTINEL_5P_L2\",\n",
    "    temporal_extent=[\"2022-10-19\", \"2025-10-19\"],\n",
    "    spatial_extent={\n",
    "        \"west\": 113.749308389220396,\n",
    "        \"south\": -7.05063150609786,\n",
    "        \"east\": 113.80355730445064,\n",
    "        \"north\": -7.003180921347223,\n",
    "    },\n",
    "    bands=[\"NO2\"],\n",
    ")"
   ]
  },
  {
   "cell_type": "code",
   "execution_count": 5,
   "id": "81845933",
   "metadata": {},
   "outputs": [
    {
     "name": "stdout",
     "output_type": "stream",
     "text": [
      "0:00:00 Job 'j-2510211053034a82931ff44571a42560': send 'start'\n"
     ]
    },
    {
     "name": "stdout",
     "output_type": "stream",
     "text": [
      "0:00:14 Job 'j-2510211053034a82931ff44571a42560': running (progress N/A)\n"
     ]
    },
    {
     "name": "stdout",
     "output_type": "stream",
     "text": [
      "0:00:19 Job 'j-2510211053034a82931ff44571a42560': running (progress N/A)\n"
     ]
    },
    {
     "name": "stdout",
     "output_type": "stream",
     "text": [
      "0:00:27 Job 'j-2510211053034a82931ff44571a42560': running (progress N/A)\n"
     ]
    }
   ],
   "source": [
    "# 4. Hitung rata-rata harian\n",
    "s5p_no2_daily = s5p_no2.aggregate_temporal_period(\n",
    "    period=\"day\",\n",
    "    reducer=\"mean\"\n",
    ")\n",
    "\n",
    "# 5. Hitung rata-rata spasial berdasarkan AOI\n",
    "s5p_no2_aoi = s5p_no2_daily.aggregate_spatial(\n",
    "    geometries=aoi,\n",
    "    reducer=\"mean\"\n",
    ")\n",
    "\n",
    "job = s5p_no2.execute_batch(title=\"NO2 in Lenteng\", outputfile=\"NO2_in_Lenteng(1).nc\")"
   ]
  },
  {
   "cell_type": "code",
   "execution_count": null,
   "id": "75a34474",
   "metadata": {},
   "outputs": [],
   "source": []
  }
 ],
 "metadata": {
  "kernelspec": {
   "display_name": ".venv",
   "language": "python",
   "name": "python3"
  },
  "language_info": {
   "codemirror_mode": {
    "name": "ipython",
    "version": 3
   },
   "file_extension": ".py",
   "mimetype": "text/x-python",
   "name": "python",
   "nbconvert_exporter": "python",
   "pygments_lexer": "ipython3",
   "version": "3.11.9"
  }
 },
 "nbformat": 4,
 "nbformat_minor": 5
}