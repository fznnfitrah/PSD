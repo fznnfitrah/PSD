{
 "cells": [
  {
   "cell_type": "markdown",
   "id": "bf5fccd7",
   "metadata": {},
   "source": [
    "# ***Pemahaman Bisnis***\n",
    "\n",
    "## **Pengertian Business Understanding**\n",
    "\n",
    "Business Understanding adalah tahap awal dan paling fundamental dalam sebuah proyek, terutama dalam proyek analisis data, *data science*, dan pengembangan bisnis. Pada intinya, tahap ini berfokus untuk memahami tujuan dan kebutuhan proyek dari sudut pandang bisnis sebelum memulai pekerjaan teknis apa pun.\n",
    "\n",
    "Sederhananya, ini adalah proses \"menerjemahkan\" masalah bisnis menjadi sebuah definisi proyek yang jelas. Fase ini memastikan bahwa solusi yang akan dikembangkan nantinya benar-benar menjawab permasalahan yang dihadapi perusahaan dan memberikan nilai tambah yang nyata.\n",
    "\n",
    "Tahap ini merupakan pilar utama dalam metodologi populer seperti **CRISP-DM** (*Cross-Industry Standard Process for Data Mining*), di mana ia menjadi langkah pertama yang menentukan arah keseluruhan proyek.\n",
    "\n",
    "-----\n",
    "\n",
    "## **Tujuan Utama Business Understanding**\n",
    "\n",
    "Tujuan utama dari fase ini adalah untuk menghindari \"membangun solusi yang benar untuk masalah yang salah\". Secara spesifik, tujuannya meliputi:\n",
    "\n",
    "1.  **Mengidentifikasi Masalah Bisnis:** Memahami dengan jelas apa masalah atau peluang yang ingin dipecahkan oleh perusahaan.\n",
    "2.  **Menentukan Tujuan Bisnis:** Mengetahui apa yang ingin dicapai oleh perusahaan, misalnya:\n",
    "      * Meningkatkan penjualan sebesar 15%.\n",
    "      * Mengurangi jumlah pelanggan yang berhenti berlangganan (*churn*) sebesar 10%.\n",
    "      * Meningkatkan efisiensi operasional.\n",
    "3.  **Menetapkan Kriteria Sukses:** Mendefinisikan secara spesifik dan terukur bagaimana keberhasilan proyek akan dinilai dari sisi bisnis.\n",
    "4.  **Menyelaraskan Ekspektasi:** Memastikan semua pihak yang terlibat (*stakeholders*) memiliki pemahaman yang sama mengenai tujuan, batasan, dan hasil yang diharapkan dari proyek.\n",
    "\n",
    "-----\n",
    "\n",
    "## **Aktivitas Utama dalam Tahap Business Understanding**\n",
    "\n",
    "Untuk mencapai tujuan di atas, ada beberapa kegiatan utama yang dilakukan:\n",
    "\n",
    "| Aktivitas | Deskripsi | Contoh Pertanyaan yang Harus Dijawab |\n",
    "| :--- | :--- | :--- |\n",
    "| **1. Menentukan Tujuan Bisnis** | Berdiskusi dengan *stakeholders* untuk memahami latar belakang, target utama, dan apa yang dianggap sebagai \"kemenangan\" bagi bisnis. | - Apa masalah utama yang sedang dihadapi?  <br> - Apa tujuan jangka pendek dan jangka panjang perusahaan? <br> - Bagaimana proyek ini akan membantu mencapai tujuan tersebut? |\n",
    "| **2. Menilai Situasi Saat Ini** | Menganalisis kondisi terkini, termasuk sumber daya yang tersedia, batasan (waktu, anggaran), risiko, dan asumsi yang ada. | - Siapa saja yang akan terdampak oleh proyek ini? <br> - Apa saja batasan teknis dan anggaran yang ada? <br> - Apa risiko terbesar dari proyek ini? |\n",
    "| **3. Menentukan Tujuan Teknis/Proyek** | Menerjemahkan tujuan bisnis menjadi tujuan teknis yang lebih spesifik. Misalnya, dari \"mengurangi *churn*\" menjadi \"membangun model prediksi untuk mengidentifikasi pelanggan yang berisiko *churn*.\" | - Data apa yang kita butuhkan untuk menyelesaikan masalah ini? <br> - Metrik teknis apa yang akan digunakan untuk mengukur keberhasilan model (misalnya, akurasi, presisi)? |\n",
    "| **4. Membuat Rencana Proyek Awal** | Merancang garis besar rencana kerja, termasuk tahapan proyek, jadwal, dan alat (*tools*) yang akan digunakan. | - Apa saja langkah-langkah yang akan diambil dari awal hingga akhir? <br> - Siapa yang bertanggung jawab untuk setiap tahapan? <br> - Berapa estimasi waktu yang dibutuhkan? |\n",
    "\n",
    "**Analogi Sederhana:**\n",
    "Bayangkan *Business Understanding* seperti seorang dokter yang mendiagnosis pasien. Sebelum memberikan resep obat (solusi teknis), dokter harus terlebih dahulu memahami gejala, riwayat penyakit, dan kondisi pasien secara menyeluruh (tujuan bisnis dan situasi). Memberikan obat tanpa diagnosis yang tepat bisa jadi tidak efektif atau bahkan berbahaya.\n",
    "\n"
   ]
  }
 ],
 "metadata": {
  "kernelspec": {
   "display_name": "Python 3",
   "language": "python",
   "name": "python3"
  },
  "language_info": {
   "codemirror_mode": {
    "name": "ipython",
    "version": 3
   },
   "file_extension": ".py",
   "mimetype": "text/x-python",
   "name": "python",
   "nbconvert_exporter": "python",
   "pygments_lexer": "ipython3",
   "version": "3.13.7"
  }
 },
 "nbformat": 4,
 "nbformat_minor": 5
}