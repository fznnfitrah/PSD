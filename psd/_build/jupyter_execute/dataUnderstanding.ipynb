{
 "cells": [
  {
   "cell_type": "markdown",
   "metadata": {},
   "source": [
    "# ***DATA UNDERSTANDING***"
   ]
  },
  {
   "cell_type": "markdown",
   "metadata": {},
   "source": [
    "## **Pengertian Data Understanding**\n",
    "Data Understanding adalah tahap kedua dalam metodologi *CRISP-DM (Cross-Industry Standard Process for Data Mining)* setelah *Business Understanding*. Tahap ini berfokus pada mengenali, mengumpulkan, dan memahami data yang tersedia agar sesuai dengan tujuan analisis atau pemodelan.  \n",
    "\n",
    "Singkatnya: **Data Understanding = mengenal data, mengecek kualitasnya, dan memahami pola awal yang ada di dalamnya.**\n",
    "\n",
    "---\n",
    "\n",
    "## **Tujuan Data Understanding**\n",
    "Tujuan utama dari Data Understanding antara lain:\n",
    "- ✅ **Memahami isi data**: jenis variabel, jumlah data, format, dan struktur dataset.  \n",
    "- ✅ **Menilai kualitas data**: apakah ada *missing values*, data duplikat, atau anomali.  \n",
    "- ✅ **Mengeksplorasi karakteristik data**: distribusi, statistik deskriptif, korelasi antar variabel.  \n",
    "- ✅ **Menemukan insight awal**: pola, tren, atau indikasi yang mungkin relevan dengan masalah bisnis.  \n",
    "- ✅ **Menentukan arah tahap berikutnya (Data Preparation)**: misalnya apakah data perlu dibersihkan, ditransformasi, atau ditambah dengan data lain.\n",
    "\n",
    "---\n",
    "\n",
    "## **Aktivitas dalam Data Understanding**\n",
    "Ada empat aktivitas utama yang biasanya dilakukan di tahap ini:  \n",
    "\n",
    "1. *Data Collection*\n",
    "   - Mengumpulkan data dari berbagai sumber (database, file CSV/Excel, API, data sensor, dsb).  \n",
    "   - Memastikan data yang terkumpul relevan dengan tujuan analisis.  \n",
    "\n",
    "2. *Data Description*  \n",
    "   - Melakukan deskripsi awal data.  \n",
    "   - Menghitung statistik sederhana (jumlah baris, jumlah kolom, rata-rata, nilai maksimum/minimum, frekuensi kategori, dsb).  \n",
    "   - Memberikan gambaran umum tentang struktur dataset.  \n",
    "\n",
    "3. *Data Exploration*\n",
    "   - Mengeksplorasi data secara mendalam menggunakan visualisasi (histogram, scatter plot, boxplot, heatmap korelasi).  \n",
    "   - Mendeteksi distribusi data, hubungan antar variabel, dan potensi pola awal.  \n",
    "   - Mengidentifikasi *outliers* atau anomali.  \n",
    "\n",
    "4. *Data Quality Verification*\n",
    "   - Memeriksa apakah ada data yang hilang (*missing values*), tidak konsisten, atau salah input.  \n",
    "   - Menilai apakah kualitas data sudah memadai untuk analisis lebih lanjut.  \n",
    "\n",
    "---\n",
    "\n",
    "Kesimpulan dari penjelasan Data Understanding = tahap mengenal data → tujuannya memahami & menilai kualitas → aktivitasnya meliputi pengumpulan, deskripsi, eksplorasi, dan verifikasi kualitas data."
   ]
  }
 ],
 "metadata": {
  "kernelspec": {
   "display_name": "Python 3",
   "language": "python",
   "name": "python3"
  },
  "language_info": {
   "codemirror_mode": {
    "name": "ipython",
    "version": 3
   },
   "file_extension": ".py",
   "mimetype": "text/x-python",
   "name": "python",
   "nbconvert_exporter": "python",
   "pygments_lexer": "ipython3",
   "version": "3.12.1"
  },
  "widgets": {
   "application/vnd.jupyter.widget-state+json": {
    "state": {},
    "version_major": 2,
    "version_minor": 0
   }
  }
 },
 "nbformat": 4,
 "nbformat_minor": 4
}