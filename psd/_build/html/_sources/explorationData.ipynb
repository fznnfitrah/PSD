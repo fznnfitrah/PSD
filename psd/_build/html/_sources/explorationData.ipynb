{
 "cells": [
  {
   "cell_type": "markdown",
   "id": "9131c4b4",
   "metadata": {},
   "source": [
    "### ***EXPLORATION DATA***"
   ]
  },
  {
   "cell_type": "markdown",
   "id": "ba6f23ac",
   "metadata": {},
   "source": [
    "Deserunt magna aute laborum excepteur commodo cupidatat excepteur aliqua enim commodo. Est pariatur quis aliqua do irure aliqua consequat officia nostrud labore sint sit. Qui ipsum nulla dolor nulla quis ex.\n",
    "\n",
    "Commodo eiusmod est mollit veniam non duis duis excepteur. Consequat eiusmod dolore aliquip nisi. Quis non nulla adipisicing irure esse culpa adipisicing minim officia. Laboris excepteur quis est aliqua aute ullamco ipsum incididunt eu. Pariatur nisi veniam nulla qui amet consectetur laborum.\n",
    "\n",
    "Velit qui adipisicing aliqua consectetur ex fugiat eu minim duis commodo consequat tempor. Ut tempor anim aliquip irure magna anim consequat in aliqua ullamco pariatur. Excepteur commodo incididunt nisi magna tempor voluptate tempor exercitation cupidatat esse esse quis et. Tempor do nisi ex nulla non ex est. Cupidatat nisi quis aute nulla eu. Ad ullamco cupidatat dolore eiusmod sunt.\n",
    "\n",
    "In deserunt consequat id minim enim ullamco do aute qui anim ea in. Non anim adipisicing amet incididunt non non duis consectetur deserunt anim ea esse minim. Id in adipisicing deserunt nulla irure sit esse aliquip irure velit commodo sit. Magna ea sunt Lorem eu. Occaecat ipsum esse ex culpa quis amet eiusmod exercitation culpa ex deserunt deserunt."
   ]
  }
 ],
 "metadata": {
  "kernelspec": {
   "display_name": "Python 3",
   "language": "python",
   "name": "python3"
  },
  "language_info": {
   "codemirror_mode": {
    "name": "ipython",
    "version": 3
   },
   "file_extension": ".py",
   "mimetype": "text/x-python",
   "name": "python",
   "nbconvert_exporter": "python",
   "pygments_lexer": "ipython3",
   "version": "3.13.7"
  }
 },
 "nbformat": 4,
 "nbformat_minor": 5
}
